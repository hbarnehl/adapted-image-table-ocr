{
 "cells": [
  {
   "cell_type": "markdown",
   "metadata": {},
   "source": [
    "# Pipeline"
   ]
  },
  {
   "cell_type": "code",
   "execution_count": 28,
   "metadata": {},
   "outputs": [],
   "source": [
    "# Importing other necessary packages\n",
    "import glob\n",
    "import pandas as pd\n",
    "import numpy as np\n",
    "import cv2 # image transformation\n",
    "import os\n",
    "import re\n",
    "import concurrent # for parallel instances\n",
    "import functools # for creating partial functions\n",
    "import shutil\n",
    "\n",
    "from io import StringIO # to convert string to csv\n",
    "import time # to measure time\n",
    "\n",
    "# to add the path where to search for modules\n",
    "import sys\n",
    "sys.path.append('/home/hennes/Internship/table_scanner')\n",
    "\n",
    "# Importing table_ocr modules \n",
    "from table_ocr import pdf_to_images\n",
    "from table_ocr import extract_tables\n",
    "from table_ocr import extract_cells\n",
    "from table_ocr import ocr_image\n",
    "from table_ocr import ocr_to_csv"
   ]
  },
  {
   "cell_type": "markdown",
   "metadata": {},
   "source": [
    "## Creating Pipeline"
   ]
  },
  {
   "cell_type": "code",
   "execution_count": 57,
   "metadata": {},
   "outputs": [],
   "source": [
    "## Creating Pipeline\n",
    "\n",
    "folder = \"/home/hennes/Internship/pdfs\"\n",
    "save_folder = '/home/hennes/Internship/constituencies/'\n",
    "allpdf = [pdf for pdf in glob.glob(folder+'/*') if pdf.endswith(\".pdf\")]\n",
    "pdflist = sorted([pdf for pdf in allpdf if pdf.split('/')[-1].split('_')[0].split('.')[0] not in\n",
    "           [file.split('/')[-1].split('.')[0] for file in glob.glob(save_folder+'*')]])\n",
    "\n",
    "# only collect pdfs that have not yet been turned into csv"
   ]
  },
  {
   "cell_type": "code",
   "execution_count": 58,
   "metadata": {
    "scrolled": true
   },
   "outputs": [
    {
     "data": {
      "text/plain": [
       "[]"
      ]
     },
     "execution_count": 58,
     "metadata": {},
     "output_type": "execute_result"
    }
   ],
   "source": [
    "# delete all non-pdf files and folders\n",
    "[shutil.rmtree(folder+'/'+e) for e in next(os.walk(folder))[1]]\n",
    "[os.remove(e) for e in glob.glob(folder+'/*') if not e.endswith('.pdf')]"
   ]
  },
  {
   "cell_type": "code",
   "execution_count": 59,
   "metadata": {},
   "outputs": [],
   "source": [
    "exclude = ['AC69_Form20.pdf', 'AC100_Form20.pdf']\n",
    "pdflist = [x for x in pdflist if not x.endswith('AC69_Form20.pdf')]"
   ]
  },
  {
   "cell_type": "code",
   "execution_count": 61,
   "metadata": {
    "scrolled": true
   },
   "outputs": [
    {
     "name": "stdout",
     "output_type": "stream",
     "text": [
      "created images of AC003.pdf\n",
      "preprocessed images of AC003.pdf\n",
      "extracted tables of AC003.pdf\n",
      "extracted cells of AC003.pdf\n",
      "completed ocr of AC003.pdf\n",
      "Error tokenizing data. C error: Expected 13 fields in line 4, saw 14\n",
      "\n",
      "will try again ignoring one more line.\n",
      "Error tokenizing data. C error: Expected 9 fields in line 6, saw 10\n",
      "\n",
      "created images of AC004.pdf\n",
      "preprocessed images of AC004.pdf\n",
      "extracted tables of AC004.pdf\n",
      "extracted cells of AC004.pdf\n"
     ]
    },
    {
     "ename": "KeyboardInterrupt",
     "evalue": "",
     "output_type": "error",
     "traceback": [
      "\u001b[0;31m---------------------------------------------------------------------------\u001b[0m",
      "\u001b[0;31mKeyboardInterrupt\u001b[0m                         Traceback (most recent call last)",
      "\u001b[0;32m<ipython-input-61-77e07c62ff88>\u001b[0m in \u001b[0;36m<module>\u001b[0;34m\u001b[0m\n\u001b[1;32m      1\u001b[0m \u001b[0;32mfor\u001b[0m \u001b[0mx\u001b[0m \u001b[0;32min\u001b[0m \u001b[0mpdflist\u001b[0m\u001b[0;34m:\u001b[0m\u001b[0;34m\u001b[0m\u001b[0;34m\u001b[0m\u001b[0m\n\u001b[0;32m----> 2\u001b[0;31m     \u001b[0mocr_pipeline\u001b[0m\u001b[0;34m(\u001b[0m\u001b[0mx\u001b[0m\u001b[0;34m)\u001b[0m\u001b[0;34m\u001b[0m\u001b[0;34m\u001b[0m\u001b[0m\n\u001b[0m",
      "\u001b[0;32m<ipython-input-56-260b6ac48636>\u001b[0m in \u001b[0;36mocr_pipeline\u001b[0;34m(pdf)\u001b[0m\n\u001b[1;32m     44\u001b[0m         \u001b[0;31m# perform OCR on each image\u001b[0m\u001b[0;34m\u001b[0m\u001b[0;34m\u001b[0m\u001b[0;34m\u001b[0m\u001b[0m\n\u001b[1;32m     45\u001b[0m         \u001b[0;32mwith\u001b[0m \u001b[0mconcurrent\u001b[0m\u001b[0;34m.\u001b[0m\u001b[0mfutures\u001b[0m\u001b[0;34m.\u001b[0m\u001b[0mProcessPoolExecutor\u001b[0m\u001b[0;34m(\u001b[0m\u001b[0mmax_workers\u001b[0m\u001b[0;34m=\u001b[0m\u001b[0;36m4\u001b[0m\u001b[0;34m)\u001b[0m \u001b[0;32mas\u001b[0m \u001b[0mexecutor\u001b[0m\u001b[0;34m:\u001b[0m\u001b[0;34m\u001b[0m\u001b[0;34m\u001b[0m\u001b[0m\n\u001b[0;32m---> 46\u001b[0;31m             \u001b[0mexecutor\u001b[0m\u001b[0;34m.\u001b[0m\u001b[0mmap\u001b[0m\u001b[0;34m(\u001b[0m\u001b[0mp_ocr_image\u001b[0m\u001b[0;34m,\u001b[0m \u001b[0mimage_list\u001b[0m\u001b[0;34m)\u001b[0m\u001b[0;34m\u001b[0m\u001b[0;34m\u001b[0m\u001b[0m\n\u001b[0m\u001b[1;32m     47\u001b[0m     \u001b[0mprint\u001b[0m\u001b[0;34m(\u001b[0m\u001b[0;34mf\"completed ocr of {pdf.split('/')[-1]}\"\u001b[0m\u001b[0;34m)\u001b[0m\u001b[0;34m\u001b[0m\u001b[0;34m\u001b[0m\u001b[0m\n\u001b[1;32m     48\u001b[0m \u001b[0;34m\u001b[0m\u001b[0m\n",
      "\u001b[0;32m/usr/lib/python3.8/concurrent/futures/_base.py\u001b[0m in \u001b[0;36m__exit__\u001b[0;34m(self, exc_type, exc_val, exc_tb)\u001b[0m\n\u001b[1;32m    642\u001b[0m \u001b[0;34m\u001b[0m\u001b[0m\n\u001b[1;32m    643\u001b[0m     \u001b[0;32mdef\u001b[0m \u001b[0m__exit__\u001b[0m\u001b[0;34m(\u001b[0m\u001b[0mself\u001b[0m\u001b[0;34m,\u001b[0m \u001b[0mexc_type\u001b[0m\u001b[0;34m,\u001b[0m \u001b[0mexc_val\u001b[0m\u001b[0;34m,\u001b[0m \u001b[0mexc_tb\u001b[0m\u001b[0;34m)\u001b[0m\u001b[0;34m:\u001b[0m\u001b[0;34m\u001b[0m\u001b[0;34m\u001b[0m\u001b[0m\n\u001b[0;32m--> 644\u001b[0;31m         \u001b[0mself\u001b[0m\u001b[0;34m.\u001b[0m\u001b[0mshutdown\u001b[0m\u001b[0;34m(\u001b[0m\u001b[0mwait\u001b[0m\u001b[0;34m=\u001b[0m\u001b[0;32mTrue\u001b[0m\u001b[0;34m)\u001b[0m\u001b[0;34m\u001b[0m\u001b[0;34m\u001b[0m\u001b[0m\n\u001b[0m\u001b[1;32m    645\u001b[0m         \u001b[0;32mreturn\u001b[0m \u001b[0;32mFalse\u001b[0m\u001b[0;34m\u001b[0m\u001b[0;34m\u001b[0m\u001b[0m\n\u001b[1;32m    646\u001b[0m \u001b[0;34m\u001b[0m\u001b[0m\n",
      "\u001b[0;32m/usr/lib/python3.8/concurrent/futures/process.py\u001b[0m in \u001b[0;36mshutdown\u001b[0;34m(self, wait)\u001b[0m\n\u001b[1;32m    684\u001b[0m             \u001b[0mself\u001b[0m\u001b[0;34m.\u001b[0m\u001b[0m_queue_management_thread_wakeup\u001b[0m\u001b[0;34m.\u001b[0m\u001b[0mwakeup\u001b[0m\u001b[0;34m(\u001b[0m\u001b[0;34m)\u001b[0m\u001b[0;34m\u001b[0m\u001b[0;34m\u001b[0m\u001b[0m\n\u001b[1;32m    685\u001b[0m             \u001b[0;32mif\u001b[0m \u001b[0mwait\u001b[0m\u001b[0;34m:\u001b[0m\u001b[0;34m\u001b[0m\u001b[0;34m\u001b[0m\u001b[0m\n\u001b[0;32m--> 686\u001b[0;31m                 \u001b[0mself\u001b[0m\u001b[0;34m.\u001b[0m\u001b[0m_queue_management_thread\u001b[0m\u001b[0;34m.\u001b[0m\u001b[0mjoin\u001b[0m\u001b[0;34m(\u001b[0m\u001b[0;34m)\u001b[0m\u001b[0;34m\u001b[0m\u001b[0;34m\u001b[0m\u001b[0m\n\u001b[0m\u001b[1;32m    687\u001b[0m         \u001b[0;31m# To reduce the risk of opening too many files, remove references to\u001b[0m\u001b[0;34m\u001b[0m\u001b[0;34m\u001b[0m\u001b[0;34m\u001b[0m\u001b[0m\n\u001b[1;32m    688\u001b[0m         \u001b[0;31m# objects that use file descriptors.\u001b[0m\u001b[0;34m\u001b[0m\u001b[0;34m\u001b[0m\u001b[0;34m\u001b[0m\u001b[0m\n",
      "\u001b[0;32m/usr/lib/python3.8/threading.py\u001b[0m in \u001b[0;36mjoin\u001b[0;34m(self, timeout)\u001b[0m\n\u001b[1;32m   1009\u001b[0m \u001b[0;34m\u001b[0m\u001b[0m\n\u001b[1;32m   1010\u001b[0m         \u001b[0;32mif\u001b[0m \u001b[0mtimeout\u001b[0m \u001b[0;32mis\u001b[0m \u001b[0;32mNone\u001b[0m\u001b[0;34m:\u001b[0m\u001b[0;34m\u001b[0m\u001b[0;34m\u001b[0m\u001b[0m\n\u001b[0;32m-> 1011\u001b[0;31m             \u001b[0mself\u001b[0m\u001b[0;34m.\u001b[0m\u001b[0m_wait_for_tstate_lock\u001b[0m\u001b[0;34m(\u001b[0m\u001b[0;34m)\u001b[0m\u001b[0;34m\u001b[0m\u001b[0;34m\u001b[0m\u001b[0m\n\u001b[0m\u001b[1;32m   1012\u001b[0m         \u001b[0;32melse\u001b[0m\u001b[0;34m:\u001b[0m\u001b[0;34m\u001b[0m\u001b[0;34m\u001b[0m\u001b[0m\n\u001b[1;32m   1013\u001b[0m             \u001b[0;31m# the behavior of a negative timeout isn't documented, but\u001b[0m\u001b[0;34m\u001b[0m\u001b[0;34m\u001b[0m\u001b[0;34m\u001b[0m\u001b[0m\n",
      "\u001b[0;32m/usr/lib/python3.8/threading.py\u001b[0m in \u001b[0;36m_wait_for_tstate_lock\u001b[0;34m(self, block, timeout)\u001b[0m\n\u001b[1;32m   1025\u001b[0m         \u001b[0;32mif\u001b[0m \u001b[0mlock\u001b[0m \u001b[0;32mis\u001b[0m \u001b[0;32mNone\u001b[0m\u001b[0;34m:\u001b[0m  \u001b[0;31m# already determined that the C code is done\u001b[0m\u001b[0;34m\u001b[0m\u001b[0;34m\u001b[0m\u001b[0m\n\u001b[1;32m   1026\u001b[0m             \u001b[0;32massert\u001b[0m \u001b[0mself\u001b[0m\u001b[0;34m.\u001b[0m\u001b[0m_is_stopped\u001b[0m\u001b[0;34m\u001b[0m\u001b[0;34m\u001b[0m\u001b[0m\n\u001b[0;32m-> 1027\u001b[0;31m         \u001b[0;32melif\u001b[0m \u001b[0mlock\u001b[0m\u001b[0;34m.\u001b[0m\u001b[0macquire\u001b[0m\u001b[0;34m(\u001b[0m\u001b[0mblock\u001b[0m\u001b[0;34m,\u001b[0m \u001b[0mtimeout\u001b[0m\u001b[0;34m)\u001b[0m\u001b[0;34m:\u001b[0m\u001b[0;34m\u001b[0m\u001b[0;34m\u001b[0m\u001b[0m\n\u001b[0m\u001b[1;32m   1028\u001b[0m             \u001b[0mlock\u001b[0m\u001b[0;34m.\u001b[0m\u001b[0mrelease\u001b[0m\u001b[0;34m(\u001b[0m\u001b[0;34m)\u001b[0m\u001b[0;34m\u001b[0m\u001b[0;34m\u001b[0m\u001b[0m\n\u001b[1;32m   1029\u001b[0m             \u001b[0mself\u001b[0m\u001b[0;34m.\u001b[0m\u001b[0m_stop\u001b[0m\u001b[0;34m(\u001b[0m\u001b[0;34m)\u001b[0m\u001b[0;34m\u001b[0m\u001b[0;34m\u001b[0m\u001b[0m\n",
      "\u001b[0;31mKeyboardInterrupt\u001b[0m: "
     ]
    }
   ],
   "source": [
    "for x in pdflist:\n",
    "    ocr_pipeline(x)"
   ]
  },
  {
   "cell_type": "code",
   "execution_count": 2,
   "metadata": {
    "scrolled": true
   },
   "outputs": [],
   "source": [
    "# Importing images\n",
    "def ocr_pipeline(pdf):\n",
    "    pdf_to_images.pdf_to_images(pdf)\n",
    "\n",
    "    imglist = [img for img in glob.glob(folder+'/*') if img.endswith('.png')]\n",
    "    print(f\"created images of {pdf.split('/')[-1]}\")\n",
    "    # Preprocessing Table\n",
    "\n",
    "    with concurrent.futures.ProcessPoolExecutor(max_workers=4) as executor:\n",
    "        executor.map(pdf_to_images.preprocess_img, imglist)\n",
    "    print(f\"preprocessed images of {pdf.split('/')[-1]}\")\n",
    "\n",
    "    # Extracting Table Image from PDF Page image\n",
    "    imglist = [[img] for img in imglist]\n",
    "\n",
    "    with concurrent.futures.ProcessPoolExecutor(max_workers=4) as executor:\n",
    "        executor.map(extract_tables.main, imglist)\n",
    "    print(f\"extracted tables of {pdf.split('/')[-1]}\")\n",
    "\n",
    "        \n",
    "    # list of individual tables in subfolders \n",
    "\n",
    "    dirlist = [directory for directory in glob.glob(folder+'/*/*') if directory.endswith('.png')]\n",
    "\n",
    "    # Extract individual cell images\n",
    "\n",
    "    with concurrent.futures.ProcessPoolExecutor(max_workers=4) as executor:\n",
    "        executor.map(extract_cells.main, dirlist)\n",
    "    print(f\"extracted cells of {pdf.split('/')[-1]}\")\n",
    "\n",
    "        \n",
    "    # cells folder is first in list of two objects in individual image folders.\n",
    "    # That is why this code works (but only if executed after cells were extracted).\n",
    "\n",
    "    dirlist = [directory for directory in glob.glob(folder+'/*/*/')]\n",
    "    celllists = [glob.glob(cellfolder+'*') for cellfolder in dirlist]\n",
    "\n",
    "    # perform OCR on each image\n",
    "\n",
    "    os.environ['OMP_THREAD_LIMIT'] = '1'\n",
    "    p_ocr_image = functools.partial(ocr_image.main, None)\n",
    "    \n",
    "    for image_list in celllists:\n",
    "        # perform OCR on each image\n",
    "        with concurrent.futures.ProcessPoolExecutor(max_workers=4) as executor:\n",
    "            executor.map(p_ocr_image, image_list)\n",
    "    print(f\"completed ocr of {pdf.split('/')[-1]}\")\n",
    "\n",
    "    gathered_data = []\n",
    "\n",
    "    try:\n",
    "        # get the names for the individual pages\n",
    "\n",
    "        pages = sorted([filename for directory, filename in\n",
    "                 [os.path.split(x) for x in glob.glob(folder+'/*') if not x.endswith(('.pdf', '.png'))]])\n",
    "\n",
    "        # create list of alphabetically ordered lists of ocred files\n",
    "\n",
    "        ocrlists = [sorted(y) for y in\n",
    "                    [glob.glob(f'{folder}/{x}/cells/ocr_data/*.txt') for x in pages]]\n",
    "        zippie = zip(pages, ocrlists)\n",
    "\n",
    "        for y, x in zippie:\n",
    "            output = ocr_to_csv.main(x)\n",
    "            csv = StringIO(output)\n",
    "            print(f'working on {y}')\n",
    "\n",
    "            # Turning csv into dataframe\n",
    "            # Skipping the first two rows because they have fewer columns than rest\n",
    "            # Also useful for chaining of tables later\n",
    "\n",
    "            df = pd.read_csv(csv,  header = None, skiprows=[0, 1])\n",
    "            gathered_data.append(df)\n",
    "            df = pd.concat(gathered_data)\n",
    "\n",
    "            constituency_name = pages[0][0:5]\n",
    "            df.to_csv(save_folder+constituency_name+'.csv')\n",
    "\n",
    "        print(f'Saved {constituency_name} to folder.')\n",
    "\n",
    "        [shutil.rmtree(folder+'/'+e) for e in next(os.walk(folder))[1]]\n",
    "        [os.remove(e) for e in glob.glob(folder+'/*') if not e.endswith('.pdf')]\n",
    "    except Exception as e:\n",
    "        print(e)\n",
    "        print('will try again ignoring one more line.')\n",
    "            # get the names for the individual pages\n",
    "\n",
    "        try:\n",
    "            pages = sorted([filename for directory, filename in\n",
    "                     [os.path.split(x) for x in glob.glob(folder+'/*') if not x.endswith(('.pdf', '.png'))]])\n",
    "\n",
    "            # create list of alphabetically ordered lists of ocred files\n",
    "\n",
    "            ocrlists = [sorted(y) for y in\n",
    "                        [glob.glob(f'{folder}/{x}/cells/ocr_data/*.txt') for x in pages]]\n",
    "            zippie = zip(pages, ocrlists)\n",
    "\n",
    "            for y, x in zippie:\n",
    "                output = ocr_to_csv.main(x)\n",
    "                csv = StringIO(output)\n",
    "                print(f'working on {y}')\n",
    "                # Turning csv into dataframe\n",
    "                # Skipping the first two rows because they have fewer columns than rest\n",
    "                # Also useful for chaining of tables later\n",
    "\n",
    "                df = pd.read_csv(csv,  header = None, skiprows=[0, 1, 2])\n",
    "                gathered_data.append(df)\n",
    "                df = pd.concat(gathered_data)\n",
    "\n",
    "                constituency_name = pages[0][0:5]\n",
    "                df.to_csv(save_folder+constituency_name+'.csv')\n",
    "\n",
    "            print(f'Saved {constituency_name} to folder.')\n",
    "\n",
    "            [shutil.rmtree(folder+'/'+e) for e in next(os.walk(folder))[1]]\n",
    "            [os.remove(e) for e in glob.glob(folder+'/*') if not e.endswith('.pdf')]\n",
    "        except Exception as e:\n",
    "            print(e)\n",
    "            exit()"
   ]
  }
 ],
 "metadata": {
  "kernelspec": {
   "display_name": "Python 3",
   "language": "python",
   "name": "python3"
  },
  "language_info": {
   "codemirror_mode": {
    "name": "ipython",
    "version": 3
   },
   "file_extension": ".py",
   "mimetype": "text/x-python",
   "name": "python",
   "nbconvert_exporter": "python",
   "pygments_lexer": "ipython3",
   "version": "3.8.10"
  }
 },
 "nbformat": 4,
 "nbformat_minor": 4
}
