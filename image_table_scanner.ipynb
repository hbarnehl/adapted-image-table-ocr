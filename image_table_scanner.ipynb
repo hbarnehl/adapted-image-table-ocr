{
 "cells": [
  {
   "cell_type": "markdown",
   "metadata": {},
   "source": [
    "# Image Table Scanner"
   ]
  },
  {
   "cell_type": "markdown",
   "metadata": {},
   "source": [
    "improving cell detection and ocr by changing kernel values\n",
    "\n",
    "In the original modules, the smallest cells were not detected because they were smaller than the minimum threshold value for detection.\n",
    "I solved this by decreasing the minimum threshold for detection.\n",
    "\n",
    "Prior to ocr, the ocr_image module would clean the image of each cell. This led to certain numbers being cropped and others deleted entirely.\n",
    "I fixed this by increasing the kernel heigth and width for detecting cell boundaries. Now numbers are not cleaned out."
   ]
  },
  {
   "cell_type": "code",
   "execution_count": null,
   "metadata": {},
   "outputs": [],
   "source": [
    "# probably not needed\n",
    "\n",
    "from PIL import Image # same as above\n",
    "from pdf2image import convert_from_path # to convert pdf to image"
   ]
  },
  {
   "cell_type": "code",
   "execution_count": 1,
   "metadata": {},
   "outputs": [],
   "source": [
    "# Importing other necessary packages\n",
    "import glob\n",
    "import pandas as pd\n",
    "import numpy as np\n",
    "import cv2 # image transformation\n",
    "import os\n",
    "import re\n",
    "import concurrent # for parallel instances\n",
    "import functools # for creating partial functions\n",
    "\n",
    "from io import StringIO # to convert string to csv\n",
    "import time # to measure time\n",
    "\n",
    "# to add the path where to search for modules\n",
    "import sys\n",
    "sys.path.append('/home/hennes/Internship/table_scanner')\n",
    "\n",
    "# Importing table_ocr modules \n",
    "from table_ocr import pdf_to_images\n",
    "from table_ocr import extract_tables\n",
    "from table_ocr import extract_cells\n",
    "from table_ocr import ocr_image\n",
    "from table_ocr import ocr_to_csv"
   ]
  },
  {
   "cell_type": "markdown",
   "metadata": {},
   "source": [
    "## Creating Pipeline"
   ]
  },
  {
   "cell_type": "code",
   "execution_count": 2,
   "metadata": {},
   "outputs": [],
   "source": [
    "## Creating Pipeline\n",
    "\n",
    "folder = \"/home/hennes/Downloads/2021 Form 20 Digitized Data\"\n",
    "pdflist = [pdf for pdf in glob.glob(folder+'/*') if pdf.endswith(\".pdf\")]"
   ]
  },
  {
   "cell_type": "code",
   "execution_count": 71,
   "metadata": {},
   "outputs": [],
   "source": [
    "# in final code, run everything per pdf file, so that each constituency results in one file"
   ]
  },
  {
   "cell_type": "code",
   "execution_count": 72,
   "metadata": {
    "scrolled": true
   },
   "outputs": [],
   "source": [
    "# Importing images\n",
    "\n",
    "with concurrent.futures.ProcessPoolExecutor(max_workers=4) as executor:\n",
    "    executor.map(pdf_to_images.pdf_to_images, pdflist)"
   ]
  },
  {
   "cell_type": "code",
   "execution_count": 4,
   "metadata": {},
   "outputs": [],
   "source": [
    "imglist = [img for img in glob.glob(folder+'/*') if img.endswith('.png')]"
   ]
  },
  {
   "cell_type": "code",
   "execution_count": 74,
   "metadata": {
    "scrolled": true
   },
   "outputs": [],
   "source": [
    "# Preprocessing Table\n",
    "\n",
    "with concurrent.futures.ProcessPoolExecutor(max_workers=4) as executor:\n",
    "    executor.map(pdf_to_images.preprocess_img, imglist)"
   ]
  },
  {
   "cell_type": "code",
   "execution_count": 5,
   "metadata": {
    "scrolled": true
   },
   "outputs": [],
   "source": [
    "# Extracting Table Image from PDF Page image\n",
    "imglist = [[img] for img in imglist]\n",
    "\n",
    "with concurrent.futures.ProcessPoolExecutor(max_workers=4) as executor:\n",
    "    executor.map(extract_tables.main, imglist)"
   ]
  },
  {
   "cell_type": "code",
   "execution_count": 6,
   "metadata": {},
   "outputs": [],
   "source": [
    "# list of individual tables in subfolders \n",
    "\n",
    "dirlist = [directory for directory in glob.glob(folder+'/*/*') if directory.endswith('.png')]"
   ]
  },
  {
   "cell_type": "code",
   "execution_count": 7,
   "metadata": {},
   "outputs": [],
   "source": [
    "# Extract individual cell images\n",
    "\n",
    "with concurrent.futures.ProcessPoolExecutor(max_workers=4) as executor:\n",
    "    executor.map(extract_cells.main, dirlist)"
   ]
  },
  {
   "cell_type": "code",
   "execution_count": 8,
   "metadata": {},
   "outputs": [],
   "source": [
    "# cells folder is first in list of two objects in individual image folders.\n",
    "# That is why this code works (but only if executed after cells were extracted).\n",
    "\n",
    "dirlist = [directory for directory in glob.glob(folder+'/*/*/')]\n",
    "celllists = [glob.glob(cellfolder+'*') for cellfolder in dirlist]"
   ]
  },
  {
   "cell_type": "code",
   "execution_count": 9,
   "metadata": {},
   "outputs": [],
   "source": [
    "# perform OCR on each image\n",
    "\n",
    "os.environ['OMP_THREAD_LIMIT'] = '1'\n",
    "p_ocr_image = functools.partial(ocr_image.main, None)\n",
    "\n",
    "for image_list in celllists:\n",
    "    # perform OCR on each image\n",
    "    with concurrent.futures.ProcessPoolExecutor(max_workers=4) as executor:\n",
    "        executor.map(p_ocr_image, image_list)"
   ]
  },
  {
   "cell_type": "code",
   "execution_count": 10,
   "metadata": {},
   "outputs": [],
   "source": [
    "# get the names for the individual pages\n",
    "\n",
    "pages = sorted([filename for directory, filename in\n",
    "         [os.path.split(x) for x in glob.glob(folder+'/*') if not x.endswith(('.pdf', '.png'))]])\n",
    "\n",
    "# create list of alphabetically ordered lists of ocred files\n",
    "\n",
    "ocrlists = [sorted(y) for y in\n",
    "            [glob.glob(f'/home/hennes/Downloads/2021 Form 20 Digitized Data/{x}/cells/ocr_data/*.txt') for x in pages]]\n",
    "zippie = zip(pages, ocrlists)"
   ]
  },
  {
   "cell_type": "code",
   "execution_count": 11,
   "metadata": {},
   "outputs": [
    {
     "name": "stdout",
     "output_type": "stream",
     "text": [
      "Converting into csv fromAC1_Form20-000\n",
      "sucessfully appended data fromAC1_Form20-000\n",
      "Converting into csv fromAC1_Form20-001\n",
      "sucessfully appended data fromAC1_Form20-001\n",
      "Converting into csv fromAC1_Form20-002\n",
      "sucessfully appended data fromAC1_Form20-002\n",
      "Converting into csv fromAC1_Form20-003\n",
      "sucessfully appended data fromAC1_Form20-003\n",
      "Converting into csv fromAC1_Form20-004\n",
      "sucessfully appended data fromAC1_Form20-004\n",
      "Converting into csv fromAC1_Form20-005\n",
      "sucessfully appended data fromAC1_Form20-005\n",
      "Converting into csv fromAC1_Form20-006\n",
      "sucessfully appended data fromAC1_Form20-006\n",
      "Converting into csv fromAC1_Form20-007\n",
      "sucessfully appended data fromAC1_Form20-007\n",
      "Converting into csv fromAC1_Form20-008\n",
      "sucessfully appended data fromAC1_Form20-008\n",
      "Converting into csv fromAC1_Form20-009\n",
      "sucessfully appended data fromAC1_Form20-009\n",
      "Converting into csv fromAC1_Form20-010\n",
      "sucessfully appended data fromAC1_Form20-010\n",
      "Converting into csv fromAC1_Form20-011\n",
      "sucessfully appended data fromAC1_Form20-011\n",
      "Converting into csv fromAC1_Form20-012\n",
      "sucessfully appended data fromAC1_Form20-012\n"
     ]
    }
   ],
   "source": [
    "# Put OCRed str into csv\n",
    "gathered_data = []\n",
    "\n",
    "for y, x in zippie:\n",
    "    output = ocr_to_csv.main(x)\n",
    "    csv = StringIO(output)\n",
    "    print(\"Converting into csv from\" + y)\n",
    "    \n",
    "    # Turning csv into dataframe\n",
    "    # Skipping the first two rows because they have fewer columns than rest\n",
    "    # Also useful for chaining of tables later\n",
    "    df = pd.read_csv(csv,  header = None, skiprows=[0, 1])\n",
    "    gathered_data.append(df)\n",
    "    print(\"sucessfully appended data from\" + y)\n",
    "\n",
    "df = pd.concat(gathered_data)\n",
    "\n",
    "save_folder = '/home/hennes/Internship/constituencies/'\n",
    "constituency_name = pages[0][0:3]\n",
    "df.to_csv(save_folder+constituency_name+'.csv')"
   ]
  },
  {
   "cell_type": "markdown",
   "metadata": {},
   "source": [
    "## Fixing Table Extraction"
   ]
  },
  {
   "cell_type": "code",
   "execution_count": 108,
   "metadata": {
    "scrolled": true
   },
   "outputs": [
    {
     "data": {
      "text/plain": [
       "array([[  0,   0,   0, ..., 255, 255, 255],\n",
       "       [  0,   0,   0, ..., 255, 255, 255],\n",
       "       [  0,   0,   0, ..., 255, 255, 255],\n",
       "       ...,\n",
       "       [254, 254, 251, ..., 232, 136, 112],\n",
       "       [251, 254, 252, ..., 207,  87,  64],\n",
       "       [250, 254, 253, ..., 162,  59,  70]], dtype=uint8)"
      ]
     },
     "execution_count": 108,
     "metadata": {},
     "output_type": "execute_result"
    }
   ],
   "source": [
    "cv2.drawContours(image, contours, -1, (0, 255, 0), 3)"
   ]
  },
  {
   "cell_type": "code",
   "execution_count": null,
   "metadata": {},
   "outputs": [],
   "source": [
    "cv2.imshow('image', cv2.resize(images[0], (1066, 800)))\n",
    "k = cv2.waitKey(0) & 0xFF\n",
    "if k == 27:         # wait for ESC key to exit\n",
    "    cv2.destroyAllWindows()"
   ]
  },
  {
   "cell_type": "code",
   "execution_count": 87,
   "metadata": {},
   "outputs": [],
   "source": [
    "image = cv2.imread('/home/hennes/Downloads/2021 Form 20 Digitized Data/AC1_Form20-010.png', cv2.IMREAD_GRAYSCALE)\n",
    "BLUR_KERNEL_SIZE = (17, 17)\n",
    "STD_DEV_X_DIRECTION = 0\n",
    "STD_DEV_Y_DIRECTION = 0\n",
    "blurred = cv2.GaussianBlur(image, BLUR_KERNEL_SIZE, STD_DEV_X_DIRECTION, STD_DEV_Y_DIRECTION)\n",
    "MAX_COLOR_VAL = 255\n",
    "BLOCK_SIZE = 15\n",
    "SUBTRACT_FROM_MEAN = -2\n",
    "\n",
    "img_bin = cv2.adaptiveThreshold(\n",
    "    ~blurred,\n",
    "    MAX_COLOR_VAL,\n",
    "    cv2.ADAPTIVE_THRESH_MEAN_C,\n",
    "    cv2.THRESH_BINARY,\n",
    "    BLOCK_SIZE,\n",
    "    SUBTRACT_FROM_MEAN,\n",
    ")\n",
    "vertical = horizontal = img_bin.copy()\n",
    "SCALE = 5\n",
    "image_width, image_height = horizontal.shape\n",
    "horizontal_kernel = cv2.getStructuringElement(cv2.MORPH_RECT, (int(image_width / SCALE), 1))\n",
    "horizontally_opened = cv2.morphologyEx(img_bin, cv2.MORPH_OPEN, horizontal_kernel)\n",
    "vertical_kernel = cv2.getStructuringElement(cv2.MORPH_RECT, (1, int(image_height / SCALE)))\n",
    "vertically_opened = cv2.morphologyEx(img_bin, cv2.MORPH_OPEN, vertical_kernel)\n",
    "\n",
    "horizontally_dilated = cv2.dilate(horizontally_opened, cv2.getStructuringElement(cv2.MORPH_RECT, (40, 1)))\n",
    "vertically_dilated = cv2.dilate(vertically_opened, cv2.getStructuringElement(cv2.MORPH_RECT, (1, 60)))\n",
    "\n",
    "mask = horizontally_dilated + vertically_dilated\n",
    "contours, heirarchy = cv2.findContours(\n",
    "    mask, cv2.RETR_EXTERNAL, cv2.CHAIN_APPROX_SIMPLE,\n",
    ")\n",
    "\n",
    "MIN_TABLE_AREA = 1e5\n",
    "contours = [c for c in contours if cv2.contourArea(c) > MIN_TABLE_AREA]\n",
    "perimeter_lengths = [cv2.arcLength(c, True) for c in contours]\n",
    "epsilons = [0.1 * p for p in perimeter_lengths]\n",
    "approx_polys = [cv2.approxPolyDP(c, e, True) for c, e in zip(contours, epsilons)]\n",
    "bounding_rects = [cv2.boundingRect(a) for a in approx_polys]\n",
    "\n",
    "# The link where a lot of this code was borrowed from recommends an\n",
    "# additional step to check the number of \"joints\" inside this bounding rectangle.\n",
    "# A table should have a lot of intersections. We might have a rectangular image\n",
    "# here though which would only have 4 intersections, 1 at each corner.\n",
    "# Leaving that step as a future TODO if it is ever necessary.\n",
    "images = [image[y:y+h, x-10:x+w+5] for x, y, w, h in bounding_rects]"
   ]
  }
 ],
 "metadata": {
  "kernelspec": {
   "display_name": "Python 3",
   "language": "python",
   "name": "python3"
  },
  "language_info": {
   "codemirror_mode": {
    "name": "ipython",
    "version": 3
   },
   "file_extension": ".py",
   "mimetype": "text/x-python",
   "name": "python",
   "nbconvert_exporter": "python",
   "pygments_lexer": "ipython3",
   "version": "3.8.10"
  }
 },
 "nbformat": 4,
 "nbformat_minor": 4
}
