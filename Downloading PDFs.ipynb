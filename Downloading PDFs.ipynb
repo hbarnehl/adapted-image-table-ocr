{
 "cells": [
  {
   "cell_type": "markdown",
   "metadata": {},
   "source": [
    "# Downloading PDFs"
   ]
  },
  {
   "cell_type": "code",
   "execution_count": 27,
   "metadata": {},
   "outputs": [],
   "source": [
    "import re \n",
    "import requests \n",
    "import cssselect \n",
    "from lxml import html\n",
    "from lxml.html import parse, fromstring \n",
    "import urllib\n",
    "from urllib import request\n",
    "import concurrent\n",
    "import glob\n",
    "import os"
   ]
  },
  {
   "cell_type": "code",
   "execution_count": 2,
   "metadata": {},
   "outputs": [],
   "source": [
    "baseurl = 'http://ceowestbengal.nic.in/UploadFiles/Election/Parliament/2019/'\n",
    "page = 'http://ceowestbengal.nic.in/UploadFiles/AE2021/Form20/Form20_GE2021.html'\n",
    "folder = '/home/hennes/Internship/pdfs/'"
   ]
  },
  {
   "cell_type": "code",
   "execution_count": 38,
   "metadata": {
    "scrolled": true
   },
   "outputs": [
    {
     "data": {
      "text/plain": [
       "['PC013.pdf',\n",
       " 'PC033.pdf',\n",
       " 'PC041.pdf',\n",
       " 'PC038.pdf',\n",
       " 'PC030.pdf',\n",
       " 'PC018.pdf',\n",
       " 'PC028.pdf',\n",
       " 'PC037.pdf',\n",
       " 'PC034.pdf',\n",
       " 'PC016.pdf',\n",
       " 'PC017.pdf',\n",
       " 'PC014.pdf',\n",
       " 'PC039.pdf',\n",
       " 'PC011.pdf',\n",
       " 'PC036.pdf',\n",
       " 'PC032.pdf',\n",
       " 'PC029.pdf',\n",
       " 'PC015.pdf',\n",
       " 'PC027.pdf',\n",
       " 'PC021.pdf',\n",
       " 'PC042.pdf',\n",
       " 'PC012.pdf',\n",
       " 'PC024.pdf',\n",
       " 'PC031.pdf',\n",
       " 'PC019.pdf',\n",
       " 'PC040.pdf',\n",
       " 'PC035.pdf',\n",
       " 'PC026.pdf',\n",
       " 'PC010.pdf',\n",
       " 'PC025.pdf',\n",
       " 'PC022.pdf']"
      ]
     },
     "execution_count": 38,
     "metadata": {},
     "output_type": "execute_result"
    }
   ],
   "source": [
    "['PC0'+os.path.split(e)[1].split('C')[-1] for e in glob.glob(folder+'*')\n",
    " if len(os.path.split(e)[1].split('C')[-1].split('.')[0]) == 2]"
   ]
  },
  {
   "cell_type": "code",
   "execution_count": 39,
   "metadata": {},
   "outputs": [
    {
     "data": {
      "text/plain": [
       "[None,\n",
       " None,\n",
       " None,\n",
       " None,\n",
       " None,\n",
       " None,\n",
       " None,\n",
       " None,\n",
       " None,\n",
       " None,\n",
       " None,\n",
       " None,\n",
       " None,\n",
       " None,\n",
       " None,\n",
       " None,\n",
       " None,\n",
       " None,\n",
       " None,\n",
       " None,\n",
       " None,\n",
       " None,\n",
       " None,\n",
       " None,\n",
       " None,\n",
       " None,\n",
       " None,\n",
       " None,\n",
       " None,\n",
       " None,\n",
       " None]"
      ]
     },
     "execution_count": 39,
     "metadata": {},
     "output_type": "execute_result"
    }
   ],
   "source": [
    "[os.rename(e, folder+'PC0'+os.path.split(e)[1].split('C')[-1])\n",
    " for e in glob.glob(folder+'*')\n",
    " if len(os.path.split(e)[1].split('C')[-1].split('.')[0]) == 2]"
   ]
  },
  {
   "cell_type": "code",
   "execution_count": 9,
   "metadata": {},
   "outputs": [],
   "source": [
    "response = requests.get(page) \n",
    "tree = html.fromstring(response.text) \n",
    "linkelements = [x for x in tree.cssselect('td > a')]\n",
    "links = sorted([baseurl+x.attrib['href'] for x in linkelements])"
   ]
  },
  {
   "cell_type": "code",
   "execution_count": 22,
   "metadata": {},
   "outputs": [],
   "source": [
    "def download_pdf(link):\n",
    "    name = link.split('/')[-1].split('.')[0].split('_')[0].split('C')[1]\n",
    "    if len(name) == 1:\n",
    "        name = '00'+name\n",
    "    if len(name) == 2:\n",
    "        name = '0'+name\n",
    "    print(f'downloading {name}')\n",
    "    request.urlretrieve(link, f'{folder}PC{name}.pdf')"
   ]
  },
  {
   "cell_type": "code",
   "execution_count": 10,
   "metadata": {},
   "outputs": [],
   "source": [
    "for link in links[:-6]:\n",
    "    download_pdf(link)"
   ]
  }
 ],
 "metadata": {
  "kernelspec": {
   "display_name": "Python 3",
   "language": "python",
   "name": "python3"
  },
  "language_info": {
   "codemirror_mode": {
    "name": "ipython",
    "version": 3
   },
   "file_extension": ".py",
   "mimetype": "text/x-python",
   "name": "python",
   "nbconvert_exporter": "python",
   "pygments_lexer": "ipython3",
   "version": "3.8.10"
  }
 },
 "nbformat": 4,
 "nbformat_minor": 4
}
