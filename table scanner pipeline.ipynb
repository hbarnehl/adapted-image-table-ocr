{
 "cells": [
  {
   "cell_type": "markdown",
   "metadata": {},
   "source": [
    "# Pipeline"
   ]
  },
  {
   "cell_type": "markdown",
   "metadata": {},
   "source": [
    "### Steps\n",
    "\n",
    "1. Import packages and define folders\n",
    "2. Choose which files to use as input\n",
    "3. Instantiate functions\n",
    "4. Run Program"
   ]
  },
  {
   "cell_type": "code",
   "execution_count": 5,
   "metadata": {},
   "outputs": [],
   "source": [
    "# Importing other necessary packages\n",
    "import glob\n",
    "import pandas as pd\n",
    "import os\n",
    "from pathlib import Path\n",
    "\n",
    "# Import helper functions tying everything together\n",
    "from scanner_functions import move_files\n",
    "from scanner_functions import ocr_pipeline\n",
    "\n",
    "## setting folders and pdfs\n",
    "folder = \"/home/hennes/Internship/pdfs/\" # should be folder containing pdfs of election\n",
    "save_folder = '/home/hennes/Internship/constituencies/' # folder into which csvs should be saved\n",
    "saved = [os.path.splitext(csv)[0] for csv in next(os.walk(save_folder))[2]]\n",
    "old = '/home/hennes/Internship/old_files/' # folder into which old files are moved\n",
    "old_files = [folder for folder in next(os.walk(old))[1]]\n",
    "allpdf = [pdf for pdf in glob.glob(folder+'*') if pdf.endswith(\".pdf\")] # list with all pdfs from folder"
   ]
  },
  {
   "cell_type": "markdown",
   "metadata": {},
   "source": [
    "## Choosing files (Choose one of the following options)"
   ]
  },
  {
   "cell_type": "markdown",
   "metadata": {},
   "source": [
    "### input = pdfs"
   ]
  },
  {
   "cell_type": "markdown",
   "metadata": {},
   "source": [
    "all pdfs that do not have a corresponding file in output folder"
   ]
  },
  {
   "cell_type": "code",
   "execution_count": 2,
   "metadata": {},
   "outputs": [],
   "source": [
    "# exclude pdfs for which there is already a csv in save folder\n",
    "pdflist = sorted([pdf for pdf in allpdf if pdf.split('/')[-1].split('_')[0].split('.')[0] not in\n",
    "           [file.split('/')[-1].split('.')[0] for file in glob.glob(save_folder+'*')]])"
   ]
  },
  {
   "cell_type": "markdown",
   "metadata": {},
   "source": [
    "pdfs as per excel sheet"
   ]
  },
  {
   "cell_type": "code",
   "execution_count": 9,
   "metadata": {
    "scrolled": true
   },
   "outputs": [],
   "source": [
    "df = pd.read_excel('/home/hennes/Downloads/Book.xlsx')\n",
    "\n",
    "# get relevant pdf numbers\n",
    "\n",
    "worklist = df[df['Comments'] == 'redo']['Constituency number'].tolist()\n",
    "\n",
    "# give appropriate filename endings to items\n",
    "\n",
    "for idx, item in enumerate(worklist):\n",
    "    if len(str(item)) == 1:\n",
    "        worklist[idx] = f'AC00{item}.pdf'\n",
    "    if len(str(item)) == 2:\n",
    "        worklist[idx] = f'AC0{item}.pdf'\n",
    "    if len(str(item)) == 3:\n",
    "        worklist[idx] = f'AC{item}.pdf'\n",
    "        \n",
    "worklist = tuple(worklist)\n",
    "pdflist = [pdf for pdf in allpdf if pdf.endswith(worklist)]"
   ]
  },
  {
   "cell_type": "markdown",
   "metadata": {},
   "source": [
    "### input = files"
   ]
  },
  {
   "cell_type": "markdown",
   "metadata": {},
   "source": [
    "all ACs that do not have a corresponding file in output folder"
   ]
  },
  {
   "cell_type": "code",
   "execution_count": 27,
   "metadata": {},
   "outputs": [],
   "source": [
    "# creates list of lists with each list containing the folders of one AC constituency\n",
    "filelist = []\n",
    "for e in set(sorted([folder.split('-')[1] for folder in next(os.walk(old))[1] if folder.split('-')[1] not in saved])):\n",
    "    filelist.append(sorted([folder for folder in old_files if folder.split('-')[1] in e]))\n",
    "filelist = sorted(filelist)"
   ]
  },
  {
   "cell_type": "markdown",
   "metadata": {},
   "source": [
    "All ACs as per excel sheet"
   ]
  },
  {
   "cell_type": "code",
   "execution_count": 2,
   "metadata": {},
   "outputs": [],
   "source": [
    "filelist = []\n",
    "for e in set(sorted([folder.split('-')[1] for folder in next(os.walk(old))[1]])):\n",
    "    filelist.append(sorted([folder for folder in old_files if folder.split('-')[1] in e]))\n",
    "filelist = sorted(filelist)"
   ]
  },
  {
   "cell_type": "code",
   "execution_count": 13,
   "metadata": {},
   "outputs": [
    {
     "ename": "IndexError",
     "evalue": "list index out of range",
     "output_type": "error",
     "traceback": [
      "\u001b[0;31m---------------------------------------------------------------------------\u001b[0m",
      "\u001b[0;31mIndexError\u001b[0m                                Traceback (most recent call last)",
      "\u001b[0;32m<ipython-input-13-b4a0aff16dd2>\u001b[0m in \u001b[0;36m<module>\u001b[0;34m\u001b[0m\n\u001b[1;32m     26\u001b[0m \u001b[0mworklist\u001b[0m \u001b[0;34m=\u001b[0m \u001b[0mtuple\u001b[0m\u001b[0;34m(\u001b[0m\u001b[0mworklist\u001b[0m\u001b[0;34m)\u001b[0m\u001b[0;34m\u001b[0m\u001b[0;34m\u001b[0m\u001b[0m\n\u001b[1;32m     27\u001b[0m \u001b[0;34m\u001b[0m\u001b[0m\n\u001b[0;32m---> 28\u001b[0;31m \u001b[0mfilelist\u001b[0m \u001b[0;34m=\u001b[0m \u001b[0;34m[\u001b[0m\u001b[0ml\u001b[0m \u001b[0;32mfor\u001b[0m \u001b[0ml\u001b[0m \u001b[0;32min\u001b[0m \u001b[0mfilelist\u001b[0m \u001b[0;32mif\u001b[0m \u001b[0ml\u001b[0m\u001b[0;34m[\u001b[0m\u001b[0;36m0\u001b[0m\u001b[0;34m]\u001b[0m\u001b[0;34m.\u001b[0m\u001b[0msplit\u001b[0m\u001b[0;34m(\u001b[0m\u001b[0;34m'-'\u001b[0m\u001b[0;34m)\u001b[0m\u001b[0;34m[\u001b[0m\u001b[0;36m1\u001b[0m\u001b[0;34m]\u001b[0m \u001b[0;32min\u001b[0m \u001b[0mworklist\u001b[0m\u001b[0;34m]\u001b[0m\u001b[0;34m\u001b[0m\u001b[0;34m\u001b[0m\u001b[0m\n\u001b[0m",
      "\u001b[0;32m<ipython-input-13-b4a0aff16dd2>\u001b[0m in \u001b[0;36m<listcomp>\u001b[0;34m(.0)\u001b[0m\n\u001b[1;32m     26\u001b[0m \u001b[0mworklist\u001b[0m \u001b[0;34m=\u001b[0m \u001b[0mtuple\u001b[0m\u001b[0;34m(\u001b[0m\u001b[0mworklist\u001b[0m\u001b[0;34m)\u001b[0m\u001b[0;34m\u001b[0m\u001b[0;34m\u001b[0m\u001b[0m\n\u001b[1;32m     27\u001b[0m \u001b[0;34m\u001b[0m\u001b[0m\n\u001b[0;32m---> 28\u001b[0;31m \u001b[0mfilelist\u001b[0m \u001b[0;34m=\u001b[0m \u001b[0;34m[\u001b[0m\u001b[0ml\u001b[0m \u001b[0;32mfor\u001b[0m \u001b[0ml\u001b[0m \u001b[0;32min\u001b[0m \u001b[0mfilelist\u001b[0m \u001b[0;32mif\u001b[0m \u001b[0ml\u001b[0m\u001b[0;34m[\u001b[0m\u001b[0;36m0\u001b[0m\u001b[0;34m]\u001b[0m\u001b[0;34m.\u001b[0m\u001b[0msplit\u001b[0m\u001b[0;34m(\u001b[0m\u001b[0;34m'-'\u001b[0m\u001b[0;34m)\u001b[0m\u001b[0;34m[\u001b[0m\u001b[0;36m1\u001b[0m\u001b[0;34m]\u001b[0m \u001b[0;32min\u001b[0m \u001b[0mworklist\u001b[0m\u001b[0;34m]\u001b[0m\u001b[0;34m\u001b[0m\u001b[0;34m\u001b[0m\u001b[0m\n\u001b[0m",
      "\u001b[0;31mIndexError\u001b[0m: list index out of range"
     ]
    }
   ],
   "source": [
    "# first get list of lists with all files\n",
    "\n",
    "filelist = []\n",
    "for e in set(sorted([folder.split('-')[1] for folder in next(os.walk(old))[1]])):\n",
    "    filelist.append(sorted([folder for folder in old_files if folder.split('-')[1] in e]))\n",
    "filelist = sorted(filelist)\n",
    "\n",
    "\n",
    "# then filter as per excel\n",
    "df = pd.read_excel('/home/hennes/Downloads/Book.xlsx')\n",
    "\n",
    "# get relevant pdf numbers\n",
    "\n",
    "worklist = df[df['Comments'] == 'redo OCR']['Constituency number'].tolist()\n",
    "\n",
    "# give appropriate filename endings to items\n",
    "\n",
    "for idx, item in enumerate(worklist):\n",
    "    if len(str(item)) == 1:\n",
    "        worklist[idx] = f'AC00{item}'\n",
    "    if len(str(item)) == 2:\n",
    "        worklist[idx] = f'AC0{item}'\n",
    "    if len(str(item)) == 3:\n",
    "        worklist[idx] = f'AC{item}'\n",
    "        \n",
    "worklist = tuple(worklist)\n",
    "\n",
    "filelist = [l for l in filelist if l[0].split('-')[1] in worklist]"
   ]
  },
  {
   "cell_type": "markdown",
   "metadata": {},
   "source": [
    "## Running Program"
   ]
  },
  {
   "cell_type": "markdown",
   "metadata": {},
   "source": [
    "Cleaning eventual files still in pdf folder."
   ]
  },
  {
   "cell_type": "code",
   "execution_count": 2,
   "metadata": {},
   "outputs": [
    {
     "ename": "NameError",
     "evalue": "name 'os' is not defined",
     "output_type": "error",
     "traceback": [
      "\u001b[0;31m---------------------------------------------------------------------------\u001b[0m",
      "\u001b[0;31mNameError\u001b[0m                                 Traceback (most recent call last)",
      "\u001b[0;32m<ipython-input-2-fa5f0fbce938>\u001b[0m in \u001b[0;36m<module>\u001b[0;34m\u001b[0m\n\u001b[0;32m----> 1\u001b[0;31m \u001b[0mmove_files\u001b[0m\u001b[0;34m(\u001b[0m\u001b[0mfolder\u001b[0m\u001b[0;34m,\u001b[0m \u001b[0mold\u001b[0m\u001b[0;34m)\u001b[0m\u001b[0;34m\u001b[0m\u001b[0;34m\u001b[0m\u001b[0m\n\u001b[0m",
      "\u001b[0;32m~/Internship/table_scanner/scanner_functions.py\u001b[0m in \u001b[0;36mmove_files\u001b[0;34m(folder, old)\u001b[0m\n\u001b[1;32m      2\u001b[0m     \u001b[0;31m# if folder already exist, delete it. Then move folders to old directory.\u001b[0m\u001b[0;34m\u001b[0m\u001b[0;34m\u001b[0m\u001b[0;34m\u001b[0m\u001b[0m\n\u001b[1;32m      3\u001b[0m     [shutil.rmtree(old+'/'+e)\n\u001b[0;32m----> 4\u001b[0;31m      for e in next(os.walk(folder))[1] if Path(old+'/'+e).is_dir()]\n\u001b[0m\u001b[1;32m      5\u001b[0m \u001b[0;34m\u001b[0m\u001b[0m\n\u001b[1;32m      6\u001b[0m     [shutil.move(folder+''+e, old)\n",
      "\u001b[0;31mNameError\u001b[0m: name 'os' is not defined"
     ]
    }
   ],
   "source": [
    "move_files(folder, old)"
   ]
  },
  {
   "cell_type": "markdown",
   "metadata": {},
   "source": [
    "For when input is folders from old folder (tables already extracted):"
   ]
  },
  {
   "cell_type": "code",
   "execution_count": 45,
   "metadata": {
    "scrolled": true
   },
   "outputs": [
    {
     "name": "stdout",
     "output_type": "stream",
     "text": [
      " \n",
      "WORKING ON 12\n",
      " \n",
      "extracted cells of 12\n",
      "completed ocr of 12\n",
      "working on AC017-02\n",
      "working on AC017-03\n",
      "working on AC017-07\n",
      "working on AC017-08\n",
      "working on AC017-09\n",
      "working on AC017-10\n",
      "working on AC017-11\n",
      "working on AC017-12\n",
      "working on AC017-13\n",
      "working on AC017-14\n",
      "working on AC017-15\n",
      "Saved 02 to folder.\n"
     ]
    },
    {
     "ename": "TypeError",
     "evalue": "'NoneType' object is not iterable",
     "output_type": "error",
     "traceback": [
      "\u001b[0;31m---------------------------------------------------------------------------\u001b[0m",
      "\u001b[0;31mTypeError\u001b[0m                                 Traceback (most recent call last)",
      "\u001b[0;32m<ipython-input-45-0d1fcf6c2054>\u001b[0m in \u001b[0;36m<module>\u001b[0;34m\u001b[0m\n\u001b[1;32m      1\u001b[0m \u001b[0;32mfor\u001b[0m \u001b[0ml\u001b[0m \u001b[0;32min\u001b[0m \u001b[0mfilelist\u001b[0m\u001b[0;34m:\u001b[0m\u001b[0;34m\u001b[0m\u001b[0;34m\u001b[0m\u001b[0m\n\u001b[0;32m----> 2\u001b[0;31m     \u001b[0;34m[\u001b[0m\u001b[0mshutil\u001b[0m\u001b[0;34m.\u001b[0m\u001b[0mcopytree\u001b[0m\u001b[0;34m(\u001b[0m\u001b[0mold\u001b[0m\u001b[0;34m+\u001b[0m\u001b[0mx\u001b[0m\u001b[0;34m,\u001b[0m \u001b[0mfolder\u001b[0m\u001b[0;34m+\u001b[0m\u001b[0mx\u001b[0m\u001b[0;34m)\u001b[0m \u001b[0;32mfor\u001b[0m \u001b[0mx\u001b[0m \u001b[0;32min\u001b[0m \u001b[0ml\u001b[0m\u001b[0;34m]\u001b[0m\u001b[0;34m\u001b[0m\u001b[0;34m\u001b[0m\u001b[0m\n\u001b[0m\u001b[1;32m      3\u001b[0m     \u001b[0mpdf\u001b[0m \u001b[0;34m=\u001b[0m \u001b[0;34mf'/{l[0].split(\"-\")[1]}'\u001b[0m\u001b[0;34m\u001b[0m\u001b[0;34m\u001b[0m\u001b[0m\n\u001b[1;32m      4\u001b[0m     \u001b[0mprint\u001b[0m\u001b[0;34m(\u001b[0m\u001b[0;34mf' \\nWORKING ON {pdf.split(\"/\")[-1]}\\n '\u001b[0m\u001b[0;34m)\u001b[0m\u001b[0;34m\u001b[0m\u001b[0;34m\u001b[0m\u001b[0m\n\u001b[1;32m      5\u001b[0m     \u001b[0mstop\u001b[0m \u001b[0;34m=\u001b[0m \u001b[0mocr_pipeline\u001b[0m\u001b[0;34m(\u001b[0m\u001b[0mpdf\u001b[0m\u001b[0;34m,\u001b[0m \u001b[0mfrom_cell\u001b[0m\u001b[0;34m=\u001b[0m\u001b[0;32mTrue\u001b[0m\u001b[0;34m,\u001b[0m \u001b[0mdilate\u001b[0m\u001b[0;34m=\u001b[0m\u001b[0;32mNone\u001b[0m\u001b[0;34m)\u001b[0m\u001b[0;34m\u001b[0m\u001b[0;34m\u001b[0m\u001b[0m\n",
      "\u001b[0;31mTypeError\u001b[0m: 'NoneType' object is not iterable"
     ]
    }
   ],
   "source": [
    "for l in filelist:\n",
    "    [shutil.copytree(old+x, folder+x) for x in l]\n",
    "    pdf = f'/{l[0].split(\"-\")[1]}'\n",
    "    print(f' \\nWORKING ON {pdf.split(\"/\")[-1]}\\n ')\n",
    "    stop = ocr_pipeline(pdf, from_cell=True)\n",
    "    if stop:\n",
    "        break"
   ]
  },
  {
   "cell_type": "markdown",
   "metadata": {},
   "source": [
    "For when input is image files from old folder:"
   ]
  },
  {
   "cell_type": "code",
   "execution_count": 4,
   "metadata": {
    "scrolled": true
   },
   "outputs": [
    {
     "ename": "NameError",
     "evalue": "name 'worklist' is not defined",
     "output_type": "error",
     "traceback": [
      "\u001b[0;31m---------------------------------------------------------------------------\u001b[0m",
      "\u001b[0;31mNameError\u001b[0m                                 Traceback (most recent call last)",
      "\u001b[0;32m<ipython-input-4-cd6c91b9f212>\u001b[0m in \u001b[0;36m<module>\u001b[0;34m\u001b[0m\n\u001b[0;32m----> 1\u001b[0;31m \u001b[0mpdflist\u001b[0m \u001b[0;34m=\u001b[0m \u001b[0;34m[\u001b[0m\u001b[0me\u001b[0m\u001b[0;34m.\u001b[0m\u001b[0msplit\u001b[0m\u001b[0;34m(\u001b[0m\u001b[0;34m'.'\u001b[0m\u001b[0;34m)\u001b[0m\u001b[0;34m[\u001b[0m\u001b[0;36m0\u001b[0m\u001b[0;34m]\u001b[0m \u001b[0;32mfor\u001b[0m \u001b[0me\u001b[0m \u001b[0;32min\u001b[0m \u001b[0mworklist\u001b[0m\u001b[0;34m]\u001b[0m\u001b[0;34m\u001b[0m\u001b[0;34m\u001b[0m\u001b[0m\n\u001b[0m",
      "\u001b[0;31mNameError\u001b[0m: name 'worklist' is not defined"
     ]
    }
   ],
   "source": [
    "pdflist = [e.split('.')[0] for e in worklist]"
   ]
  },
  {
   "cell_type": "code",
   "execution_count": 16,
   "metadata": {},
   "outputs": [],
   "source": [
    "pdflist = [folder+'AC188.pdf']"
   ]
  },
  {
   "cell_type": "code",
   "execution_count": 8,
   "metadata": {
    "scrolled": true
   },
   "outputs": [
    {
     "name": "stdout",
     "output_type": "stream",
     "text": [
      " \n",
      "WORKING ON /home/hennes/Internship/pdfs/AC226.pdf\n",
      " \n",
      "extracted tables of AC226.pdf.pdf\n",
      "extracted cells of AC226.pdf.pdf\n",
      "completed ocr of AC226.pdf.pdf\n",
      "working on AC226-01\n",
      "Error tokenizing data. C error: Expected 11 fields in line 4, saw 12\n",
      "\n",
      "will try again ignoring one more line.\n",
      "working on AC226-01\n",
      "working on AC226-02\n",
      "working on AC226-03\n",
      "working on AC226-04\n",
      "working on AC226-05\n",
      "working on AC226-06\n",
      "working on AC226-07\n",
      "working on AC226-08\n",
      "working on AC226-09\n",
      "working on AC226-10\n",
      "working on AC226-11\n",
      "working on AC226-12\n",
      "working on AC226-13\n",
      "working on AC226-14\n",
      "working on AC226-15\n",
      "working on AC226-16\n",
      "working on AC226-17\n",
      "working on AC226-18\n",
      "working on AC226-19\n",
      "working on AC226-20\n",
      "working on AC226-21\n",
      "working on AC226-22\n",
      "working on AC226-23\n",
      "working on AC226-24\n",
      "working on AC226-25\n",
      "working on AC226-26\n",
      "working on AC226-27\n",
      "working on AC226-28\n",
      "working on AC226-29\n",
      "Saved AC226 to folder.\n",
      " \n",
      "WORKING ON /home/hennes/Internship/pdfs/AC235.pdf\n",
      " \n",
      "extracted tables of AC235.pdf.pdf\n",
      "extracted cells of AC235.pdf.pdf\n",
      "completed ocr of AC235.pdf.pdf\n",
      "working on AC235-01\n",
      "working on AC235-02\n",
      "working on AC235-03\n",
      "working on AC235-04\n",
      "working on AC235-05\n",
      "working on AC235-06\n",
      "working on AC235-07\n",
      "working on AC235-08\n",
      "working on AC235-09\n",
      "working on AC235-10\n",
      "Saved AC235 to folder.\n",
      " \n",
      "WORKING ON /home/hennes/Internship/pdfs/AC219.pdf\n",
      " \n",
      "extracted tables of AC219.pdf.pdf\n",
      "extracted cells of AC219.pdf.pdf\n",
      "completed ocr of AC219.pdf.pdf\n",
      "working on AC219-01\n",
      "Error tokenizing data. C error: Expected 10 fields in line 4, saw 11\n",
      "\n",
      "will try again ignoring one more line.\n",
      "working on AC219-01\n",
      "working on AC219-02\n",
      "working on AC219-03\n",
      "working on AC219-04\n",
      "working on AC219-05\n",
      "working on AC219-06\n",
      "working on AC219-07\n",
      "working on AC219-08\n",
      "working on AC219-09\n",
      "working on AC219-10\n",
      "working on AC219-11\n",
      "working on AC219-12\n",
      "working on AC219-13\n",
      "working on AC219-14\n",
      "working on AC219-15\n",
      "working on AC219-16\n",
      "working on AC219-17\n",
      "working on AC219-18\n",
      "working on AC219-19\n",
      "working on AC219-20\n",
      "working on AC219-21\n",
      "working on AC219-22\n",
      "working on AC219-23\n",
      "working on AC219-24\n",
      "working on AC219-25\n",
      "Saved AC219 to folder.\n",
      " \n",
      "WORKING ON /home/hennes/Internship/pdfs/AC223.pdf\n",
      " \n",
      "extracted tables of AC223.pdf.pdf\n",
      "extracted cells of AC223.pdf.pdf\n",
      "completed ocr of AC223.pdf.pdf\n",
      "working on AC223-01\n",
      "Error tokenizing data. C error: Expected 11 fields in line 4, saw 12\n",
      "\n",
      "will try again ignoring one more line.\n",
      "working on AC223-01\n",
      "working on AC223-02\n",
      "working on AC223-03\n",
      "working on AC223-04\n",
      "working on AC223-05\n",
      "working on AC223-06\n",
      "working on AC223-07\n",
      "working on AC223-08\n",
      "working on AC223-09\n",
      "working on AC223-10\n",
      "working on AC223-11\n",
      "working on AC223-12\n",
      "working on AC223-13\n",
      "working on AC223-14\n",
      "working on AC223-15\n",
      "working on AC223-16\n",
      "working on AC223-17\n",
      "working on AC223-18\n",
      "working on AC223-19\n",
      "working on AC223-20\n",
      "working on AC223-21\n",
      "working on AC223-22\n",
      "working on AC223-23\n",
      "working on AC223-24\n",
      "working on AC223-25\n",
      "Saved AC223 to folder.\n",
      " \n",
      "WORKING ON /home/hennes/Internship/pdfs/AC247.pdf\n",
      " \n",
      "extracted tables of AC247.pdf.pdf\n",
      "problem tables: ['AC247-01', 'AC247-02', 'AC247-03', 'AC247-04', 'AC247-05']\n",
      "Table extraction did not work correctly. Continuing with next pdf.\n",
      " \n",
      "WORKING ON /home/hennes/Internship/pdfs/AC238.pdf\n",
      " \n",
      "Extraction error: /home/hennes/Internship/pdfs/AC238-18.png.\n",
      "extracted tables of AC238.pdf.pdf\n",
      "extracted cells of AC238.pdf.pdf\n",
      "completed ocr of AC238.pdf.pdf\n",
      "working on AC238-01\n",
      "working on AC238-02\n",
      "working on AC238-03\n",
      "working on AC238-04\n",
      "working on AC238-05\n",
      "working on AC238-06\n",
      "working on AC238-07\n",
      "working on AC238-08\n",
      "working on AC238-09\n",
      "working on AC238-10\n",
      "working on AC238-11\n",
      "working on AC238-12\n",
      "working on AC238-13\n",
      "working on AC238-14\n",
      "working on AC238-15\n",
      "working on AC238-16\n",
      "working on AC238-17\n",
      "Saved AC238 to folder.\n",
      " \n",
      "WORKING ON /home/hennes/Internship/pdfs/AC233.pdf\n",
      " \n",
      "extracted tables of AC233.pdf.pdf\n",
      "extracted cells of AC233.pdf.pdf\n",
      "completed ocr of AC233.pdf.pdf\n",
      "working on AC233-01\n",
      "working on AC233-02\n",
      "working on AC233-03\n",
      "working on AC233-04\n",
      "working on AC233-05\n",
      "working on AC233-06\n",
      "working on AC233-07\n",
      "working on AC233-08\n",
      "working on AC233-09\n",
      "working on AC233-10\n",
      "Saved AC233 to folder.\n"
     ]
    }
   ],
   "source": [
    "for x in pdflist:\n",
    "    imglist = [img for img in next(os.walk(old))[2] if img.startswith(os.path.split(x)[1].split('.')[0])]\n",
    "    [shutil.copy(old+x, folder) for x in imglist]\n",
    "    pdf = f'{folder}/{x}.pdf'\n",
    "    print(f' \\nWORKING ON {x}\\n ')\n",
    "    stop = ocr_pipeline(pdf, preprocess = False, image_conversion = False, thresh = True)\n",
    "    if stop:\n",
    "        break"
   ]
  },
  {
   "cell_type": "markdown",
   "metadata": {},
   "source": [
    "For when input files are pdf:"
   ]
  },
  {
   "cell_type": "code",
   "execution_count": 6,
   "metadata": {},
   "outputs": [],
   "source": [
    "# no options\n",
    "pdflist = allpdf"
   ]
  },
  {
   "cell_type": "code",
   "execution_count": null,
   "metadata": {},
   "outputs": [
    {
     "name": "stdout",
     "output_type": "stream",
     "text": [
      " \n",
      "WORKING ON /home/hennes/Internship/pdfs/AC255.pdf\n",
      " \n"
     ]
    }
   ],
   "source": [
    "for x in pdflist:\n",
    "    print(f' \\nWORKING ON {x}\\n ')\n",
    "    stop = ocr_pipeline(x)\n",
    "    if stop:\n",
    "        break"
   ]
  }
 ],
 "metadata": {
  "kernelspec": {
   "display_name": "Python 3",
   "language": "python",
   "name": "python3"
  },
  "language_info": {
   "codemirror_mode": {
    "name": "ipython",
    "version": 3
   },
   "file_extension": ".py",
   "mimetype": "text/x-python",
   "name": "python",
   "nbconvert_exporter": "python",
   "pygments_lexer": "ipython3",
   "version": "3.8.10"
  }
 },
 "nbformat": 4,
 "nbformat_minor": 4
}
