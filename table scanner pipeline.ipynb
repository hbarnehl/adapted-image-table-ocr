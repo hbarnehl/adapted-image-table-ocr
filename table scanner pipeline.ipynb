{
 "cells": [
  {
   "cell_type": "markdown",
   "metadata": {},
   "source": [
    "# Pipeline"
   ]
  },
  {
   "cell_type": "markdown",
   "metadata": {},
   "source": [
    "### Steps\n",
    "\n",
    "1. Import packages and define folders\n",
    "2. Choose which files to use as input\n",
    "3. Instantiate functions\n",
    "4. Run Program"
   ]
  },
  {
   "cell_type": "code",
   "execution_count": 1,
   "metadata": {},
   "outputs": [],
   "source": [
    "# Importing other necessary packages\n",
    "import glob\n",
    "import pandas as pd\n",
    "import os\n",
    "from pathlib import Path\n",
    "import shutil\n",
    "\n",
    "# Import helper functions tying everything together\n",
    "from scanner_functions import move_files\n",
    "from scanner_functions import ocr_pipeline\n",
    "\n",
    "## setting folders and pdfs\n",
    "folder = \"/home/hennes/Internship/pdfs/\" # should be folder containing pdfs of election\n",
    "save_folder = '/home/hennes/Internship/constituencies/' # folder into which csvs should be saved\n",
    "saved = [os.path.splitext(csv)[0] for csv in next(os.walk(save_folder))[2]]\n",
    "old = '/home/hennes/Internship/old_files/' # folder into which old files are moved\n",
    "old_files = [folder for folder in next(os.walk(old))[1]]\n",
    "allpdf = [pdf for pdf in glob.glob(folder+'*') if pdf.endswith(\".pdf\")] # list with all pdfs from folder"
   ]
  },
  {
   "cell_type": "markdown",
   "metadata": {},
   "source": [
    "## Choosing files (Choose one of the following options)"
   ]
  },
  {
   "cell_type": "markdown",
   "metadata": {},
   "source": [
    "### input = pdfs"
   ]
  },
  {
   "cell_type": "markdown",
   "metadata": {},
   "source": [
    "all pdfs that do not have a corresponding file in output folder"
   ]
  },
  {
   "cell_type": "code",
   "execution_count": 2,
   "metadata": {},
   "outputs": [],
   "source": [
    "# exclude pdfs for which there is already a csv in save folder\n",
    "pdflist = sorted([pdf for pdf in allpdf if pdf.split('/')[-1].split('_')[0].split('.')[0] not in\n",
    "           [file.split('/')[-1].split('.')[0] for file in glob.glob(save_folder+'*')]])"
   ]
  },
  {
   "cell_type": "markdown",
   "metadata": {},
   "source": [
    "pdfs as per excel sheet"
   ]
  },
  {
   "cell_type": "code",
   "execution_count": 9,
   "metadata": {
    "scrolled": true
   },
   "outputs": [],
   "source": [
    "df = pd.read_excel('/home/hennes/Downloads/Book.xlsx')\n",
    "\n",
    "# get relevant pdf numbers\n",
    "\n",
    "worklist = df[df['Comments'] == 'redo with threshold']['Constituency number'].tolist()\n",
    "\n",
    "# give appropriate filename endings to items\n",
    "\n",
    "for idx, item in enumerate(worklist):\n",
    "    if len(str(item)) == 1:\n",
    "        worklist[idx] = f'AC00{item}.pdf'\n",
    "    if len(str(item)) == 2:\n",
    "        worklist[idx] = f'AC0{item}.pdf'\n",
    "    if len(str(item)) == 3:\n",
    "        worklist[idx] = f'AC{item}.pdf'\n",
    "        \n",
    "worklist = tuple(worklist)\n",
    "pdflist = [pdf for pdf in allpdf if pdf.endswith(worklist)]"
   ]
  },
  {
   "cell_type": "markdown",
   "metadata": {},
   "source": [
    "### input = files"
   ]
  },
  {
   "cell_type": "markdown",
   "metadata": {},
   "source": [
    "all ACs that do not have a corresponding file in output folder"
   ]
  },
  {
   "cell_type": "code",
   "execution_count": 27,
   "metadata": {},
   "outputs": [],
   "source": [
    "# creates list of lists with each list containing the folders of one AC constituency\n",
    "filelist = []\n",
    "for e in set(sorted([folder.split('-')[1] for folder in next(os.walk(old))[1] if folder.split('-')[1] not in saved])):\n",
    "    filelist.append(sorted([folder for folder in old_files if folder.split('-')[1] in e]))\n",
    "filelist = sorted(filelist)"
   ]
  },
  {
   "cell_type": "markdown",
   "metadata": {},
   "source": [
    "All ACs as per excel sheet"
   ]
  },
  {
   "cell_type": "code",
   "execution_count": 9,
   "metadata": {},
   "outputs": [],
   "source": [
    "filelist = []\n",
    "for e in set(sorted([folder.split('-')[1] for folder in next(os.walk(old))[1]])):\n",
    "    filelist.append(sorted([folder for folder in old_files if folder.split('-')[1] in e]))\n",
    "filelist = sorted(filelist)"
   ]
  },
  {
   "cell_type": "code",
   "execution_count": 2,
   "metadata": {},
   "outputs": [],
   "source": [
    "# first get list of lists with all files\n",
    "\n",
    "filelist = []\n",
    "for e in set(sorted([folder.split('-')[1] for folder in next(os.walk(old))[1]])):\n",
    "    filelist.append(sorted([folder for folder in old_files if folder.split('-')[1] in e]))\n",
    "filelist = sorted(filelist)\n",
    "\n",
    "\n",
    "# then filter as per excel\n",
    "df = pd.read_excel('/home/hennes/Downloads/Book.xlsx')\n",
    "\n",
    "# get relevant pdf numbers\n",
    "\n",
    "worklist = df[df['Comments'] == 'redo with threshold']['Constituency number'].tolist()\n",
    "\n",
    "# give appropriate filename endings to items\n",
    "\n",
    "for idx, item in enumerate(worklist):\n",
    "    if len(str(item)) == 1:\n",
    "        worklist[idx] = f'AC00{item}'\n",
    "    if len(str(item)) == 2:\n",
    "        worklist[idx] = f'AC0{item}'\n",
    "    if len(str(item)) == 3:\n",
    "        worklist[idx] = f'AC{item}'\n",
    "        \n",
    "worklist = tuple(worklist)\n",
    "\n",
    "filelist = [l for l in filelist if l[0].split('-')[1] in worklist]"
   ]
  },
  {
   "cell_type": "markdown",
   "metadata": {},
   "source": [
    "## Running Program"
   ]
  },
  {
   "cell_type": "markdown",
   "metadata": {},
   "source": [
    "Cleaning eventual files still in pdf folder."
   ]
  },
  {
   "cell_type": "code",
   "execution_count": 4,
   "metadata": {},
   "outputs": [],
   "source": [
    "move_files(folder, old)"
   ]
  },
  {
   "cell_type": "markdown",
   "metadata": {},
   "source": [
    "For when input is folders from old folder (tables already extracted):"
   ]
  },
  {
   "cell_type": "code",
   "execution_count": 5,
   "metadata": {
    "scrolled": true
   },
   "outputs": [
    {
     "name": "stdout",
     "output_type": "stream",
     "text": [
      " \n",
      "WORKING ON AC068\n",
      " \n",
      "extracted cells of AC068\n",
      "completed ocr of AC068\n",
      "working on PC010-AC068-11\n",
      "working on PC010-AC068-12\n",
      "working on PC010-AC068-13\n",
      "working on PC010-AC068-14\n",
      "working on PC010-AC068-15\n",
      "working on PC010-AC068-16\n",
      "working on PC010-AC068-17\n",
      "working on PC010-AC068-18\n",
      "working on PC010-AC068-19\n",
      "working on PC010-AC068-20\n",
      "working on PC010-AC068-21\n",
      "Saved AC068 to folder.\n",
      " \n",
      "WORKING ON AC069\n",
      " \n",
      "extracted cells of AC069\n",
      "completed ocr of AC069\n",
      "working on PC010-AC069-22\n",
      "working on PC010-AC069-23\n",
      "working on PC010-AC069-24\n",
      "working on PC010-AC069-25\n",
      "working on PC010-AC069-26\n",
      "working on PC010-AC069-27\n",
      "working on PC010-AC069-28\n",
      "Saved AC069 to folder.\n",
      " \n",
      "WORKING ON AC070\n",
      " \n",
      "extracted cells of AC070\n",
      "completed ocr of AC070\n",
      "working on PC010-AC070-29\n",
      "working on PC010-AC070-30\n",
      "working on PC010-AC070-31\n",
      "working on PC010-AC070-32\n",
      "working on PC010-AC070-33\n",
      "working on PC010-AC070-34\n",
      "working on PC010-AC070-35\n",
      "working on PC010-AC070-36\n",
      "working on PC010-AC070-37\n",
      "working on PC010-AC070-38\n",
      "working on PC010-AC070-39\n",
      "working on PC010-AC070-40\n",
      "Saved AC070 to folder.\n",
      " \n",
      "WORKING ON AC071\n",
      " \n",
      "extracted cells of AC071\n",
      "completed ocr of AC071\n",
      "working on PC010-AC071-41\n",
      "working on PC010-AC071-42\n",
      "working on PC010-AC071-43\n",
      "working on PC010-AC071-44\n",
      "working on PC010-AC071-45\n",
      "working on PC010-AC071-46\n",
      "working on PC010-AC071-47\n",
      "working on PC010-AC071-48\n",
      "working on PC010-AC071-49\n",
      "working on PC010-AC071-50\n",
      "working on PC010-AC071-51\n",
      "working on PC010-AC071-52\n",
      "Saved AC071 to folder.\n",
      " \n",
      "WORKING ON AC072\n",
      " \n",
      "extracted cells of AC072\n",
      "completed ocr of AC072\n",
      "working on PC010-AC072-53\n",
      "working on PC010-AC072-54\n",
      "working on PC010-AC072-55\n",
      "working on PC010-AC072-56\n",
      "working on PC010-AC072-57\n",
      "working on PC010-AC072-58\n",
      "working on PC010-AC072-59\n",
      "working on PC010-AC072-60\n",
      "working on PC010-AC072-61\n",
      "working on PC010-AC072-62\n",
      "working on PC010-AC072-63\n",
      "working on PC010-AC072-64\n",
      "Saved AC072 to folder.\n",
      " \n",
      "WORKING ON AC074\n",
      " \n",
      "extracted cells of AC074\n",
      "completed ocr of AC074\n",
      "working on PC010-AC074-65\n",
      "working on PC010-AC074-66\n",
      "working on PC010-AC074-67\n",
      "working on PC010-AC074-68\n",
      "working on PC010-AC074-69\n",
      "working on PC010-AC074-70\n",
      "working on PC010-AC074-71\n",
      "working on PC010-AC074-72\n",
      "working on PC010-AC074-73\n",
      "working on PC010-AC074-74\n",
      "working on PC010-AC074-75\n",
      "Saved AC074 to folder.\n",
      " \n",
      "WORKING ON AC073\n",
      " \n",
      "extracted cells of AC073\n",
      "completed ocr of AC073\n",
      "working on PC011-AC073-33\n",
      "working on PC011-AC073-34\n",
      "working on PC011-AC073-35\n",
      "working on PC011-AC073-36\n",
      "working on PC011-AC073-37\n",
      "working on PC011-AC073-38\n",
      "working on PC011-AC073-39\n",
      "working on PC011-AC073-40\n",
      "working on PC011-AC073-41\n",
      "working on PC011-AC073-42\n",
      "working on PC011-AC073-43\n",
      "Saved AC073 to folder.\n",
      " \n",
      "WORKING ON AC076\n",
      " \n",
      "extracted cells of AC076\n",
      "completed ocr of AC076\n",
      "working on PC011-AC076-55\n",
      "working on PC011-AC076-56\n",
      "working on PC011-AC076-57\n",
      "working on PC011-AC076-58\n",
      "working on PC011-AC076-59\n",
      "working on PC011-AC076-60\n",
      "working on PC011-AC076-61\n",
      "working on PC011-AC076-62\n",
      "working on PC011-AC076-63\n",
      "working on PC011-AC076-64\n",
      "working on PC011-AC076-65\n",
      "Saved AC076 to folder.\n",
      " \n",
      "WORKING ON AC077\n",
      " \n",
      "extracted cells of AC077\n",
      "completed ocr of AC077\n",
      "working on PC011-AC077-66\n",
      "working on PC011-AC077-67\n",
      "working on PC011-AC077-68\n",
      "working on PC011-AC077-69\n",
      "working on PC011-AC077-70\n",
      "working on PC011-AC077-71\n",
      "working on PC011-AC077-72\n",
      "working on PC011-AC077-73\n",
      "working on PC011-AC077-74\n",
      "working on PC011-AC077-75\n",
      "working on PC011-AC077-76\n",
      "Saved AC077 to folder.\n"
     ]
    }
   ],
   "source": [
    "for l in filelist:\n",
    "    [shutil.copytree(old+x, folder+x) for x in l]\n",
    "    pdf = f'/{l[0].split(\"-\")[1]}'\n",
    "    print(f' \\nWORKING ON {pdf.split(\"/\")[-1]}\\n ')\n",
    "    stop = ocr_pipeline(pdf, from_cell=True, thresh = True, no_noise = True)\n",
    "    if stop:\n",
    "        break"
   ]
  },
  {
   "cell_type": "markdown",
   "metadata": {},
   "source": [
    "For when input is image files from old folder:"
   ]
  },
  {
   "cell_type": "code",
   "execution_count": 4,
   "metadata": {
    "scrolled": true
   },
   "outputs": [
    {
     "ename": "NameError",
     "evalue": "name 'worklist' is not defined",
     "output_type": "error",
     "traceback": [
      "\u001b[0;31m---------------------------------------------------------------------------\u001b[0m",
      "\u001b[0;31mNameError\u001b[0m                                 Traceback (most recent call last)",
      "\u001b[0;32m<ipython-input-4-cd6c91b9f212>\u001b[0m in \u001b[0;36m<module>\u001b[0;34m\u001b[0m\n\u001b[0;32m----> 1\u001b[0;31m \u001b[0mpdflist\u001b[0m \u001b[0;34m=\u001b[0m \u001b[0;34m[\u001b[0m\u001b[0me\u001b[0m\u001b[0;34m.\u001b[0m\u001b[0msplit\u001b[0m\u001b[0;34m(\u001b[0m\u001b[0;34m'.'\u001b[0m\u001b[0;34m)\u001b[0m\u001b[0;34m[\u001b[0m\u001b[0;36m0\u001b[0m\u001b[0;34m]\u001b[0m \u001b[0;32mfor\u001b[0m \u001b[0me\u001b[0m \u001b[0;32min\u001b[0m \u001b[0mworklist\u001b[0m\u001b[0;34m]\u001b[0m\u001b[0;34m\u001b[0m\u001b[0;34m\u001b[0m\u001b[0m\n\u001b[0m",
      "\u001b[0;31mNameError\u001b[0m: name 'worklist' is not defined"
     ]
    }
   ],
   "source": [
    "pdflist = [e.split('.')[0] for e in worklist]"
   ]
  },
  {
   "cell_type": "code",
   "execution_count": 3,
   "metadata": {},
   "outputs": [],
   "source": [
    "pdflist = allpdf"
   ]
  },
  {
   "cell_type": "code",
   "execution_count": 4,
   "metadata": {},
   "outputs": [
    {
     "data": {
      "text/plain": [
       "['/home/hennes/Internship/pdfs/PC007.pdf']"
      ]
     },
     "execution_count": 4,
     "metadata": {},
     "output_type": "execute_result"
    }
   ],
   "source": [
    "pdflist"
   ]
  },
  {
   "cell_type": "code",
   "execution_count": 4,
   "metadata": {
    "scrolled": true
   },
   "outputs": [
    {
     "ename": "NameError",
     "evalue": "name 'shutil' is not defined",
     "output_type": "error",
     "traceback": [
      "\u001b[0;31m---------------------------------------------------------------------------\u001b[0m",
      "\u001b[0;31mNameError\u001b[0m                                 Traceback (most recent call last)",
      "\u001b[0;32m<ipython-input-4-0d5bc9c50f86>\u001b[0m in \u001b[0;36m<module>\u001b[0;34m\u001b[0m\n\u001b[1;32m      1\u001b[0m \u001b[0;32mfor\u001b[0m \u001b[0mx\u001b[0m \u001b[0;32min\u001b[0m \u001b[0mpdflist\u001b[0m\u001b[0;34m:\u001b[0m\u001b[0;34m\u001b[0m\u001b[0;34m\u001b[0m\u001b[0m\n\u001b[1;32m      2\u001b[0m     \u001b[0mimglist\u001b[0m \u001b[0;34m=\u001b[0m \u001b[0;34m[\u001b[0m\u001b[0mimg\u001b[0m \u001b[0;32mfor\u001b[0m \u001b[0mimg\u001b[0m \u001b[0;32min\u001b[0m \u001b[0mnext\u001b[0m\u001b[0;34m(\u001b[0m\u001b[0mos\u001b[0m\u001b[0;34m.\u001b[0m\u001b[0mwalk\u001b[0m\u001b[0;34m(\u001b[0m\u001b[0mold\u001b[0m\u001b[0;34m)\u001b[0m\u001b[0;34m)\u001b[0m\u001b[0;34m[\u001b[0m\u001b[0;36m2\u001b[0m\u001b[0;34m]\u001b[0m \u001b[0;32mif\u001b[0m \u001b[0mimg\u001b[0m\u001b[0;34m.\u001b[0m\u001b[0mstartswith\u001b[0m\u001b[0;34m(\u001b[0m\u001b[0mos\u001b[0m\u001b[0;34m.\u001b[0m\u001b[0mpath\u001b[0m\u001b[0;34m.\u001b[0m\u001b[0msplit\u001b[0m\u001b[0;34m(\u001b[0m\u001b[0mx\u001b[0m\u001b[0;34m)\u001b[0m\u001b[0;34m[\u001b[0m\u001b[0;36m1\u001b[0m\u001b[0;34m]\u001b[0m\u001b[0;34m.\u001b[0m\u001b[0msplit\u001b[0m\u001b[0;34m(\u001b[0m\u001b[0;34m'.'\u001b[0m\u001b[0;34m)\u001b[0m\u001b[0;34m[\u001b[0m\u001b[0;36m0\u001b[0m\u001b[0;34m]\u001b[0m\u001b[0;34m)\u001b[0m\u001b[0;34m]\u001b[0m\u001b[0;34m\u001b[0m\u001b[0;34m\u001b[0m\u001b[0m\n\u001b[0;32m----> 3\u001b[0;31m     \u001b[0;34m[\u001b[0m\u001b[0mshutil\u001b[0m\u001b[0;34m.\u001b[0m\u001b[0mcopy\u001b[0m\u001b[0;34m(\u001b[0m\u001b[0mold\u001b[0m\u001b[0;34m+\u001b[0m\u001b[0mx\u001b[0m\u001b[0;34m,\u001b[0m \u001b[0mfolder\u001b[0m\u001b[0;34m)\u001b[0m \u001b[0;32mfor\u001b[0m \u001b[0mx\u001b[0m \u001b[0;32min\u001b[0m \u001b[0mimglist\u001b[0m\u001b[0;34m]\u001b[0m\u001b[0;34m\u001b[0m\u001b[0;34m\u001b[0m\u001b[0m\n\u001b[0m\u001b[1;32m      4\u001b[0m     \u001b[0mpdf\u001b[0m \u001b[0;34m=\u001b[0m \u001b[0;34mf'{folder}/{x}.pdf'\u001b[0m\u001b[0;34m\u001b[0m\u001b[0;34m\u001b[0m\u001b[0m\n\u001b[1;32m      5\u001b[0m     \u001b[0mprint\u001b[0m\u001b[0;34m(\u001b[0m\u001b[0;34mf' \\nWORKING ON {x}\\n '\u001b[0m\u001b[0;34m)\u001b[0m\u001b[0;34m\u001b[0m\u001b[0;34m\u001b[0m\u001b[0m\n",
      "\u001b[0;32m<ipython-input-4-0d5bc9c50f86>\u001b[0m in \u001b[0;36m<listcomp>\u001b[0;34m(.0)\u001b[0m\n\u001b[1;32m      1\u001b[0m \u001b[0;32mfor\u001b[0m \u001b[0mx\u001b[0m \u001b[0;32min\u001b[0m \u001b[0mpdflist\u001b[0m\u001b[0;34m:\u001b[0m\u001b[0;34m\u001b[0m\u001b[0;34m\u001b[0m\u001b[0m\n\u001b[1;32m      2\u001b[0m     \u001b[0mimglist\u001b[0m \u001b[0;34m=\u001b[0m \u001b[0;34m[\u001b[0m\u001b[0mimg\u001b[0m \u001b[0;32mfor\u001b[0m \u001b[0mimg\u001b[0m \u001b[0;32min\u001b[0m \u001b[0mnext\u001b[0m\u001b[0;34m(\u001b[0m\u001b[0mos\u001b[0m\u001b[0;34m.\u001b[0m\u001b[0mwalk\u001b[0m\u001b[0;34m(\u001b[0m\u001b[0mold\u001b[0m\u001b[0;34m)\u001b[0m\u001b[0;34m)\u001b[0m\u001b[0;34m[\u001b[0m\u001b[0;36m2\u001b[0m\u001b[0;34m]\u001b[0m \u001b[0;32mif\u001b[0m \u001b[0mimg\u001b[0m\u001b[0;34m.\u001b[0m\u001b[0mstartswith\u001b[0m\u001b[0;34m(\u001b[0m\u001b[0mos\u001b[0m\u001b[0;34m.\u001b[0m\u001b[0mpath\u001b[0m\u001b[0;34m.\u001b[0m\u001b[0msplit\u001b[0m\u001b[0;34m(\u001b[0m\u001b[0mx\u001b[0m\u001b[0;34m)\u001b[0m\u001b[0;34m[\u001b[0m\u001b[0;36m1\u001b[0m\u001b[0;34m]\u001b[0m\u001b[0;34m.\u001b[0m\u001b[0msplit\u001b[0m\u001b[0;34m(\u001b[0m\u001b[0;34m'.'\u001b[0m\u001b[0;34m)\u001b[0m\u001b[0;34m[\u001b[0m\u001b[0;36m0\u001b[0m\u001b[0;34m]\u001b[0m\u001b[0;34m)\u001b[0m\u001b[0;34m]\u001b[0m\u001b[0;34m\u001b[0m\u001b[0;34m\u001b[0m\u001b[0m\n\u001b[0;32m----> 3\u001b[0;31m     \u001b[0;34m[\u001b[0m\u001b[0mshutil\u001b[0m\u001b[0;34m.\u001b[0m\u001b[0mcopy\u001b[0m\u001b[0;34m(\u001b[0m\u001b[0mold\u001b[0m\u001b[0;34m+\u001b[0m\u001b[0mx\u001b[0m\u001b[0;34m,\u001b[0m \u001b[0mfolder\u001b[0m\u001b[0;34m)\u001b[0m \u001b[0;32mfor\u001b[0m \u001b[0mx\u001b[0m \u001b[0;32min\u001b[0m \u001b[0mimglist\u001b[0m\u001b[0;34m]\u001b[0m\u001b[0;34m\u001b[0m\u001b[0;34m\u001b[0m\u001b[0m\n\u001b[0m\u001b[1;32m      4\u001b[0m     \u001b[0mpdf\u001b[0m \u001b[0;34m=\u001b[0m \u001b[0;34mf'{folder}/{x}.pdf'\u001b[0m\u001b[0;34m\u001b[0m\u001b[0;34m\u001b[0m\u001b[0m\n\u001b[1;32m      5\u001b[0m     \u001b[0mprint\u001b[0m\u001b[0;34m(\u001b[0m\u001b[0;34mf' \\nWORKING ON {x}\\n '\u001b[0m\u001b[0;34m)\u001b[0m\u001b[0;34m\u001b[0m\u001b[0;34m\u001b[0m\u001b[0m\n",
      "\u001b[0;31mNameError\u001b[0m: name 'shutil' is not defined"
     ]
    }
   ],
   "source": [
    "for x in pdflist:\n",
    "    imglist = [img for img in next(os.walk(old))[2] if img.startswith(os.path.split(x)[1].split('.')[0])]\n",
    "    [shutil.copy(old+x, folder) for x in imglist]\n",
    "    pdf = f'{folder}/{x}.pdf'\n",
    "    print(f' \\nWORKING ON {x}\\n ')\n",
    "    stop = ocr_pipeline(pdf, no_noise = True)\n",
    "    if stop:\n",
    "        break"
   ]
  },
  {
   "cell_type": "markdown",
   "metadata": {},
   "source": [
    "For when input files are pdf:"
   ]
  },
  {
   "cell_type": "code",
   "execution_count": 20,
   "metadata": {},
   "outputs": [],
   "source": [
    "# no options\n",
    "pdflist = allpdf"
   ]
  },
  {
   "cell_type": "code",
   "execution_count": 21,
   "metadata": {
    "scrolled": true
   },
   "outputs": [
    {
     "name": "stdout",
     "output_type": "stream",
     "text": [
      " \n",
      "WORKING ON /home/hennes/Internship/pdfs/PC010.pdf\n",
      " \n",
      "created images of PC010.pdf\n",
      "preprocessed images of PC010.pdf\n",
      "PC010-01: AC = 67\n",
      "PC010-02: AC = 67\n",
      "PC010-03: AC = 67\n",
      "PC010-04: AC = 67\n",
      "PC010-05: AC = 67\n",
      "PC010-06: AC = 67\n",
      "PC010-07: AC = 67\n",
      "PC010-08: AC = 67\n",
      "PC010-09: AC = 67\n",
      "PC010-10: AC = 67\n",
      "PC010-11: AC = 68\n",
      "PC010-12: AC = 68\n",
      "PC010-13: AC = 68\n",
      "PC010-14: AC = 68\n",
      "PC010-15: AC = 68\n",
      "PC010-16: AC = 68\n",
      "PC010-17: AC = 68\n",
      "PC010-18: AC = 68\n",
      "PC010-19: AC = 68\n",
      "PC010-20: AC = 68\n",
      "PC010-21: AC = 68\n",
      "PC010-22: AC = 69\n",
      "PC010-23: AC = 69\n",
      "PC010-24: AC = 69\n",
      "PC010-25: AC = 69\n",
      "PC010-26: AC = 69\n",
      "PC010-27: AC = 69\n",
      "PC010-28: AC = 69\n",
      "PC010-29: AC = 70\n",
      "PC010-30: AC = 70\n",
      "PC010-31: AC = 70\n",
      "PC010-32: AC = 70\n",
      "PC010-33: AC = 70\n",
      "PC010-34: AC = 70\n",
      "PC010-35: AC = 70\n",
      "PC010-36: AC = 70\n",
      "PC010-37: AC = 70\n",
      "PC010-38: AC = 70\n",
      "PC010-39: AC = 70\n",
      "PC010-40: AC = 70\n",
      "PC010-41: AC = 71\n",
      "PC010-42: AC = 71\n",
      "PC010-43: AC = 71\n",
      "PC010-44: AC = 71\n",
      "PC010-45: AC = 71\n",
      "PC010-46: AC = 71\n",
      "PC010-47: AC = 71\n",
      "PC010-48: AC = 71\n",
      "PC010-49: AC = 71\n",
      "PC010-50: AC = 71\n",
      "PC010-51: AC = 71\n",
      "PC010-52: AC = 71\n",
      "PC010-53: AC = 72\n",
      "PC010-54: AC = 72\n",
      "PC010-55: AC = 72\n",
      "PC010-56: AC = 72\n",
      "PC010-57: AC = 72\n",
      "PC010-58: AC = 72\n",
      "PC010-59: AC = 72\n",
      "PC010-60: AC = 72\n",
      "PC010-61: AC = 72\n",
      "PC010-62: AC = 72\n",
      "PC010-63: AC = 72\n",
      "PC010-64: AC = 72\n",
      "PC010-65: AC = 74\n",
      "PC010-66: AC = 74\n",
      "PC010-67: AC = 74\n",
      "PC010-68: AC = 74\n",
      "PC010-69: AC = 74\n",
      "PC010-70: AC = 74\n",
      "PC010-71: AC = 74\n",
      "PC010-72: AC = 74\n",
      "PC010-73: AC = 74\n",
      "PC010-74: AC = 74\n",
      "PC010-75: AC = 74\n",
      "extracted tables of PC010.pdf and renamed them.\n"
     ]
    }
   ],
   "source": [
    "for x in pdflist:\n",
    "    print(f' \\nWORKING ON {x}\\n ')\n",
    "    stop = ocr_pipeline(x, AC = True)\n",
    "    if stop:\n",
    "        break"
   ]
  }
 ],
 "metadata": {
  "kernelspec": {
   "display_name": "Python 3",
   "language": "python",
   "name": "python3"
  },
  "language_info": {
   "codemirror_mode": {
    "name": "ipython",
    "version": 3
   },
   "file_extension": ".py",
   "mimetype": "text/x-python",
   "name": "python",
   "nbconvert_exporter": "python",
   "pygments_lexer": "ipython3",
   "version": "3.8.10"
  }
 },
 "nbformat": 4,
 "nbformat_minor": 4
}
