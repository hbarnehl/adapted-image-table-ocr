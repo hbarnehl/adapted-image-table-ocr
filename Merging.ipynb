{
 "cells": [
  {
   "cell_type": "markdown",
   "metadata": {},
   "source": [
    "# Merging Constituencies"
   ]
  },
  {
   "cell_type": "code",
   "execution_count": 1,
   "metadata": {},
   "outputs": [],
   "source": [
    "import pandas as pd\n",
    "import numpy as np\n",
    "import re\n",
    "import glob\n",
    "import os"
   ]
  },
  {
   "cell_type": "code",
   "execution_count": 9,
   "metadata": {},
   "outputs": [
    {
     "name": "stderr",
     "output_type": "stream",
     "text": [
      "/usr/lib/python3/dist-packages/IPython/core/interactiveshell.py:3062: DtypeWarning: Columns (2,3,6,9,10,12,13,16,17) have mixed types.Specify dtype option on import or set low_memory=False.\n",
      "  has_raised = await self.run_ast_nodes(code_ast.body, cell_name,\n"
     ]
    }
   ],
   "source": [
    "folder = '/home/hennes/Internship/constituencies_edit/'\n",
    "save_folder = '/home/hennes/Internship/final_datasets/'\n",
    "coordinates = pd.read_csv('/home/hennes/Internship/2021WestBengalPollingBoothLocalities.csv')\n",
    "constituencies = sorted([file for file in glob.glob(folder+'*')])"
   ]
  },
  {
   "cell_type": "code",
   "execution_count": 10,
   "metadata": {},
   "outputs": [],
   "source": [
    "# create list of all constituency dfs and then concatenate them\n",
    "all_df = [pd.read_csv(x) for x in constituencies]\n",
    "df = pd.concat(all_df)"
   ]
  },
  {
   "cell_type": "code",
   "execution_count": 11,
   "metadata": {},
   "outputs": [],
   "source": [
    "# create list of all constituency dfs and then concatenate them\n",
    "all_df = [pd.read_csv(x) for x in constituencies]\n",
    "df = pd.concat(all_df)\n",
    "df.rename(columns = {'CPIM':'CPI(M)'})\n",
    "\n",
    "#defining columns to keep and drop the rest\n",
    "to_keep = ['ac', 'page_idx','serial', 'serial_1', 'AITC', 'BJP', 'INC', 'BSP', 'RSSCMJP',\n",
    "           'AIFB', 'RSP', 'CPI', 'CPI(M)', 'AMB', 'SUCI', 'total_valid', 'rejected', 'nota', 'total']\n",
    "df = df[to_keep]"
   ]
  },
  {
   "cell_type": "code",
   "execution_count": 12,
   "metadata": {},
   "outputs": [],
   "source": [
    "df.to_csv(save_folder+'2021_premerge.csv', index=False)"
   ]
  },
  {
   "cell_type": "code",
   "execution_count": 5,
   "metadata": {
    "scrolled": true
   },
   "outputs": [],
   "source": [
    "# prepare coordinates df for merging\n",
    "\n",
    "coordinates.rename(columns={'ac_id_09':'ac', 'booth_id_21':'serial'}, inplace=True)\n",
    "coordinates.drop(['booth_id_14', 'booth_name_14', 'district_name_14'], 1, inplace=True)\n",
    "coordinates = coordinates[~coordinates['serial'].isna()]\n",
    "\n",
    "# and merge\n",
    "merged = df.merge(coordinates, how='inner', left_on=['ac','serial'], right_on=['ac','serial'])\n",
    "\n",
    "# sort the rows on constituency number and serial number\n",
    "merged.sort_values(['ac', 'serial'])\n",
    "\n",
    "# save dataframe to csv\n",
    "merged.to_csv(save_folder+'2019.csv', index=False)"
   ]
  }
 ],
 "metadata": {
  "kernelspec": {
   "display_name": "Python 3",
   "language": "python",
   "name": "python3"
  },
  "language_info": {
   "codemirror_mode": {
    "name": "ipython",
    "version": 3
   },
   "file_extension": ".py",
   "mimetype": "text/x-python",
   "name": "python",
   "nbconvert_exporter": "python",
   "pygments_lexer": "ipython3",
   "version": "3.8.10"
  }
 },
 "nbformat": 4,
 "nbformat_minor": 4
}
