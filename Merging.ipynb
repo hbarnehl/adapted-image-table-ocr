{
 "cells": [
  {
   "cell_type": "markdown",
   "metadata": {},
   "source": [
    "# Merging Constituencies"
   ]
  },
  {
   "cell_type": "code",
   "execution_count": 1,
   "metadata": {},
   "outputs": [],
   "source": [
    "import pandas as pd\n",
    "import numpy as np\n",
    "import re\n",
    "import glob\n",
    "import os"
   ]
  },
  {
   "cell_type": "code",
   "execution_count": 3,
   "metadata": {},
   "outputs": [],
   "source": [
    "folder = '/home/hennes/Internship/constituencies_edit/'\n",
    "save_folder = '/home/hennes/Internship/final_datasets/'\n",
    "coordinates = pd.read_csv('/home/hennes/Internship/2021WestBengalPollingBoothLocalities.csv')\n",
    "constituencies = sorted([file for file in glob.glob(folder+'*')])"
   ]
  },
  {
   "cell_type": "code",
   "execution_count": 4,
   "metadata": {},
   "outputs": [],
   "source": [
    "# create list of all constituency dfs and then concatenate them\n",
    "all_df = [pd.read_csv(x) for x in constituencies]\n",
    "df = pd.concat(all_df)\n",
    "\n",
    "#defining columns to keep and drop the rest\n",
    "\n",
    "to_keep = ['ac', 'page_idx', 'serial_1', 'serial', 'AITC','BJP', 'BJP', 'CPI(M)', 'INC','RSSCMJP', 'BSP',\n",
    "           'AIFB', 'SUCI', 'RSP', 'CPI', 'AJSUP', 'AMB', 'total_valid', 'rejected', 'nota', 'total']\n",
    "df = df[to_keep]"
   ]
  },
  {
   "cell_type": "code",
   "execution_count": 5,
   "metadata": {
    "scrolled": true
   },
   "outputs": [],
   "source": [
    "# prepare coordinates df for merging\n",
    "\n",
    "coordinates.rename(columns={'ac_id_09':'ac', 'booth_id_21':'serial_1'}, inplace=True)\n",
    "coordinates.drop(['booth_id_14', 'booth_name_14', 'district_name_14'], 1, inplace=True)\n",
    "coordinates = coordinates[~coordinates['serial_1'].isna()]\n",
    "\n",
    "# and merge\n",
    "merged = df.merge(coordinates, how='inner', left_on=['ac','serial_1'], right_on=['ac','serial_1'])\n",
    "\n",
    "# sort the rows on constituency number and serial number\n",
    "merged.sort_values(['ac', 'serial_1'])\n",
    "\n",
    "# save dataframe to csv\n",
    "merged.to_csv(save_folder+'2021.csv', index=False)"
   ]
  }
 ],
 "metadata": {
  "kernelspec": {
   "display_name": "Python 3",
   "language": "python",
   "name": "python3"
  },
  "language_info": {
   "codemirror_mode": {
    "name": "ipython",
    "version": 3
   },
   "file_extension": ".py",
   "mimetype": "text/x-python",
   "name": "python",
   "nbconvert_exporter": "python",
   "pygments_lexer": "ipython3",
   "version": "3.8.10"
  }
 },
 "nbformat": 4,
 "nbformat_minor": 4
}
